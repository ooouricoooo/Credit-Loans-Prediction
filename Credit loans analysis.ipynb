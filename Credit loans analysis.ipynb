{
 "cells": [
  {
   "cell_type": "code",
   "execution_count": 1,
   "metadata": {},
   "outputs": [],
   "source": [
    "import pandas as pd \n",
    "import numpy as np \n",
    "import seaborn as sns \n",
    "import matplotlib.pyplot as plt"
   ]
  },
  {
   "cell_type": "code",
   "execution_count": 2,
   "metadata": {},
   "outputs": [],
   "source": [
    "df = pd.read_csv('Downloads/Train_sample.csv')"
   ]
  },
  {
   "cell_type": "code",
   "execution_count": 3,
   "metadata": {},
   "outputs": [
    {
     "data": {
      "text/html": [
       "<div>\n",
       "<style scoped>\n",
       "    .dataframe tbody tr th:only-of-type {\n",
       "        vertical-align: middle;\n",
       "    }\n",
       "\n",
       "    .dataframe tbody tr th {\n",
       "        vertical-align: top;\n",
       "    }\n",
       "\n",
       "    .dataframe thead th {\n",
       "        text-align: right;\n",
       "    }\n",
       "</style>\n",
       "<table border=\"1\" class=\"dataframe\">\n",
       "  <thead>\n",
       "    <tr style=\"text-align: right;\">\n",
       "      <th></th>\n",
       "      <th>SK_ID_CURR</th>\n",
       "      <th>TARGET</th>\n",
       "      <th>NAME_CONTRACT_TYPE</th>\n",
       "      <th>CODE_GENDER</th>\n",
       "      <th>FLAG_OWN_CAR</th>\n",
       "      <th>FLAG_OWN_REALTY</th>\n",
       "      <th>CNT_CHILDREN</th>\n",
       "      <th>AMT_INCOME_TOTAL</th>\n",
       "      <th>AMT_CREDIT</th>\n",
       "      <th>AMT_ANNUITY</th>\n",
       "      <th>...</th>\n",
       "      <th>FLAG_DOCUMENT_18</th>\n",
       "      <th>FLAG_DOCUMENT_19</th>\n",
       "      <th>FLAG_DOCUMENT_20</th>\n",
       "      <th>FLAG_DOCUMENT_21</th>\n",
       "      <th>AMT_REQ_CREDIT_BUREAU_HOUR</th>\n",
       "      <th>AMT_REQ_CREDIT_BUREAU_DAY</th>\n",
       "      <th>AMT_REQ_CREDIT_BUREAU_WEEK</th>\n",
       "      <th>AMT_REQ_CREDIT_BUREAU_MON</th>\n",
       "      <th>AMT_REQ_CREDIT_BUREAU_QRT</th>\n",
       "      <th>AMT_REQ_CREDIT_BUREAU_YEAR</th>\n",
       "    </tr>\n",
       "  </thead>\n",
       "  <tbody>\n",
       "    <tr>\n",
       "      <th>0</th>\n",
       "      <td>100041</td>\n",
       "      <td>0</td>\n",
       "      <td>Cash loans</td>\n",
       "      <td>F</td>\n",
       "      <td>N</td>\n",
       "      <td>N</td>\n",
       "      <td>0</td>\n",
       "      <td>112500.0</td>\n",
       "      <td>450000.0</td>\n",
       "      <td>44509.5</td>\n",
       "      <td>...</td>\n",
       "      <td>0</td>\n",
       "      <td>0</td>\n",
       "      <td>0</td>\n",
       "      <td>0</td>\n",
       "      <td>0.0</td>\n",
       "      <td>0.0</td>\n",
       "      <td>0.0</td>\n",
       "      <td>0.0</td>\n",
       "      <td>0.0</td>\n",
       "      <td>0.0</td>\n",
       "    </tr>\n",
       "    <tr>\n",
       "      <th>1</th>\n",
       "      <td>100043</td>\n",
       "      <td>0</td>\n",
       "      <td>Cash loans</td>\n",
       "      <td>F</td>\n",
       "      <td>N</td>\n",
       "      <td>Y</td>\n",
       "      <td>2</td>\n",
       "      <td>198000.0</td>\n",
       "      <td>641173.5</td>\n",
       "      <td>23157.0</td>\n",
       "      <td>...</td>\n",
       "      <td>0</td>\n",
       "      <td>0</td>\n",
       "      <td>0</td>\n",
       "      <td>0</td>\n",
       "      <td>0.0</td>\n",
       "      <td>0.0</td>\n",
       "      <td>0.0</td>\n",
       "      <td>0.0</td>\n",
       "      <td>1.0</td>\n",
       "      <td>1.0</td>\n",
       "    </tr>\n",
       "    <tr>\n",
       "      <th>2</th>\n",
       "      <td>100044</td>\n",
       "      <td>0</td>\n",
       "      <td>Cash loans</td>\n",
       "      <td>M</td>\n",
       "      <td>N</td>\n",
       "      <td>Y</td>\n",
       "      <td>0</td>\n",
       "      <td>121500.0</td>\n",
       "      <td>454500.0</td>\n",
       "      <td>15151.5</td>\n",
       "      <td>...</td>\n",
       "      <td>0</td>\n",
       "      <td>0</td>\n",
       "      <td>0</td>\n",
       "      <td>0</td>\n",
       "      <td>0.0</td>\n",
       "      <td>0.0</td>\n",
       "      <td>0.0</td>\n",
       "      <td>1.0</td>\n",
       "      <td>0.0</td>\n",
       "      <td>0.0</td>\n",
       "    </tr>\n",
       "    <tr>\n",
       "      <th>3</th>\n",
       "      <td>100045</td>\n",
       "      <td>0</td>\n",
       "      <td>Cash loans</td>\n",
       "      <td>F</td>\n",
       "      <td>N</td>\n",
       "      <td>Y</td>\n",
       "      <td>0</td>\n",
       "      <td>99000.0</td>\n",
       "      <td>247275.0</td>\n",
       "      <td>17338.5</td>\n",
       "      <td>...</td>\n",
       "      <td>0</td>\n",
       "      <td>0</td>\n",
       "      <td>0</td>\n",
       "      <td>0</td>\n",
       "      <td>0.0</td>\n",
       "      <td>0.0</td>\n",
       "      <td>0.0</td>\n",
       "      <td>0.0</td>\n",
       "      <td>0.0</td>\n",
       "      <td>0.0</td>\n",
       "    </tr>\n",
       "    <tr>\n",
       "      <th>4</th>\n",
       "      <td>100046</td>\n",
       "      <td>0</td>\n",
       "      <td>Revolving loans</td>\n",
       "      <td>M</td>\n",
       "      <td>Y</td>\n",
       "      <td>Y</td>\n",
       "      <td>0</td>\n",
       "      <td>180000.0</td>\n",
       "      <td>540000.0</td>\n",
       "      <td>27000.0</td>\n",
       "      <td>...</td>\n",
       "      <td>0</td>\n",
       "      <td>0</td>\n",
       "      <td>0</td>\n",
       "      <td>0</td>\n",
       "      <td>0.0</td>\n",
       "      <td>0.0</td>\n",
       "      <td>0.0</td>\n",
       "      <td>0.0</td>\n",
       "      <td>1.0</td>\n",
       "      <td>0.0</td>\n",
       "    </tr>\n",
       "  </tbody>\n",
       "</table>\n",
       "<p>5 rows × 122 columns</p>\n",
       "</div>"
      ],
      "text/plain": [
       "   SK_ID_CURR  TARGET NAME_CONTRACT_TYPE CODE_GENDER FLAG_OWN_CAR  \\\n",
       "0      100041       0         Cash loans           F            N   \n",
       "1      100043       0         Cash loans           F            N   \n",
       "2      100044       0         Cash loans           M            N   \n",
       "3      100045       0         Cash loans           F            N   \n",
       "4      100046       0    Revolving loans           M            Y   \n",
       "\n",
       "  FLAG_OWN_REALTY  CNT_CHILDREN  AMT_INCOME_TOTAL  AMT_CREDIT  AMT_ANNUITY  \\\n",
       "0               N             0          112500.0    450000.0      44509.5   \n",
       "1               Y             2          198000.0    641173.5      23157.0   \n",
       "2               Y             0          121500.0    454500.0      15151.5   \n",
       "3               Y             0           99000.0    247275.0      17338.5   \n",
       "4               Y             0          180000.0    540000.0      27000.0   \n",
       "\n",
       "              ...              FLAG_DOCUMENT_18 FLAG_DOCUMENT_19  \\\n",
       "0             ...                             0                0   \n",
       "1             ...                             0                0   \n",
       "2             ...                             0                0   \n",
       "3             ...                             0                0   \n",
       "4             ...                             0                0   \n",
       "\n",
       "  FLAG_DOCUMENT_20 FLAG_DOCUMENT_21 AMT_REQ_CREDIT_BUREAU_HOUR  \\\n",
       "0                0                0                        0.0   \n",
       "1                0                0                        0.0   \n",
       "2                0                0                        0.0   \n",
       "3                0                0                        0.0   \n",
       "4                0                0                        0.0   \n",
       "\n",
       "  AMT_REQ_CREDIT_BUREAU_DAY AMT_REQ_CREDIT_BUREAU_WEEK  \\\n",
       "0                       0.0                        0.0   \n",
       "1                       0.0                        0.0   \n",
       "2                       0.0                        0.0   \n",
       "3                       0.0                        0.0   \n",
       "4                       0.0                        0.0   \n",
       "\n",
       "   AMT_REQ_CREDIT_BUREAU_MON  AMT_REQ_CREDIT_BUREAU_QRT  \\\n",
       "0                        0.0                        0.0   \n",
       "1                        0.0                        1.0   \n",
       "2                        1.0                        0.0   \n",
       "3                        0.0                        0.0   \n",
       "4                        0.0                        1.0   \n",
       "\n",
       "   AMT_REQ_CREDIT_BUREAU_YEAR  \n",
       "0                         0.0  \n",
       "1                         1.0  \n",
       "2                         0.0  \n",
       "3                         0.0  \n",
       "4                         0.0  \n",
       "\n",
       "[5 rows x 122 columns]"
      ]
     },
     "execution_count": 3,
     "metadata": {},
     "output_type": "execute_result"
    }
   ],
   "source": [
    "#Check if the data has loaded successfully\n",
    "df.head()"
   ]
  },
  {
   "cell_type": "markdown",
   "metadata": {},
   "source": [
    "# I. Data Cleaning and Exploration"
   ]
  },
  {
   "cell_type": "markdown",
   "metadata": {},
   "source": [
    "There are quite a few misplace data between some 2 columns that are next to each other as I observed on the csv file, so i will check these comlumns out and have them swapped"
   ]
  },
  {
   "cell_type": "code",
   "execution_count": 4,
   "metadata": {},
   "outputs": [
    {
     "data": {
      "text/plain": [
       "1              32\n",
       "2             279\n",
       "3              47\n",
       "FRIDAY       1580\n",
       "MONDAY       1631\n",
       "SATURDAY     1080\n",
       "SUNDAY        481\n",
       "THURSDAY     1584\n",
       "TUESDAY      1671\n",
       "WEDNESDAY    1615\n",
       "Name: WEEKDAY_APPR_PROCESS_START, dtype: int64"
      ]
     },
     "execution_count": 4,
     "metadata": {},
     "output_type": "execute_result"
    }
   ],
   "source": [
    "#\"WEEKDAY_APPR_PROCESS_START\" -- \"HOUR_APPR_PROCESS_START\"\n",
    "df[\"WEEKDAY_APPR_PROCESS_START\"].value_counts().sort_index()"
   ]
  },
  {
   "cell_type": "code",
   "execution_count": 5,
   "metadata": {},
   "outputs": [],
   "source": [
    "m = df.WEEKDAY_APPR_PROCESS_START.isin(['0','1','2','3'])\n",
    "df.loc[m,['WEEKDAY_APPR_PROCESS_START','HOUR_APPR_PROCESS_START']] = df.loc[m,['HOUR_APPR_PROCESS_START','WEEKDAY_APPR_PROCESS_START']].values"
   ]
  },
  {
   "cell_type": "code",
   "execution_count": 6,
   "metadata": {},
   "outputs": [
    {
     "data": {
      "text/plain": [
       "FRIDAY       1642\n",
       "MONDAY       1691\n",
       "SATURDAY     1132\n",
       "SUNDAY        506\n",
       "THURSDAY     1632\n",
       "TUESDAY      1728\n",
       "WEDNESDAY    1669\n",
       "Name: WEEKDAY_APPR_PROCESS_START, dtype: int64"
      ]
     },
     "execution_count": 6,
     "metadata": {},
     "output_type": "execute_result"
    }
   ],
   "source": [
    "df[\"WEEKDAY_APPR_PROCESS_START\"].value_counts().sort_index()"
   ]
  },
  {
   "cell_type": "code",
   "execution_count": 7,
   "metadata": {},
   "outputs": [
    {
     "data": {
      "text/plain": [
       "0                          277\n",
       "1                           81\n",
       "Advertising                 11\n",
       "Agriculture                 66\n",
       "Bank                        85\n",
       "Business Entity Type 1     171\n",
       "Business Entity Type 2     308\n",
       "Business Entity Type 3    2146\n",
       "Cleaning                     7\n",
       "Construction               197\n",
       "Culture                     15\n",
       "Electricity                 24\n",
       "Emergency                   24\n",
       "Government                 318\n",
       "Hotel                       41\n",
       "Housing                    105\n",
       "Industry: type 1            35\n",
       "Industry: type 10            8\n",
       "Industry: type 11           90\n",
       "Industry: type 12           17\n",
       "Industry: type 13            4\n",
       "Industry: type 2            16\n",
       "Industry: type 3           120\n",
       "Industry: type 4            20\n",
       "Industry: type 5            12\n",
       "Industry: type 6             3\n",
       "Industry: type 7            45\n",
       "Industry: type 8             1\n",
       "Industry: type 9           100\n",
       "Insurance                   19\n",
       "Kindergarten               234\n",
       "Legal Services               9\n",
       "Medicine                   369\n",
       "Military                    83\n",
       "Mobile                      10\n",
       "Other                      527\n",
       "Police                      67\n",
       "Postal                      68\n",
       "Realtor                      8\n",
       "Religion                     2\n",
       "Restaurant                  39\n",
       "School                     274\n",
       "Security                    80\n",
       "Security Ministries         66\n",
       "Self-employed             1278\n",
       "Services                    68\n",
       "Telecom                     23\n",
       "Trade: type 1                7\n",
       "Trade: type 2               51\n",
       "Trade: type 3              108\n",
       "Trade: type 4                1\n",
       "Trade: type 5                4\n",
       "Trade: type 6               21\n",
       "Trade: type 7              204\n",
       "Transport: type 1            7\n",
       "Transport: type 2           89\n",
       "Transport: type 3           34\n",
       "Transport: type 4          153\n",
       "University                  33\n",
       "XNA                       1717\n",
       "Name: ORGANIZATION_TYPE, dtype: int64"
      ]
     },
     "execution_count": 7,
     "metadata": {},
     "output_type": "execute_result"
    }
   ],
   "source": [
    "#\"ORGANIZATION_TYPE\" -- \"EXT_SOURCE_1\"\n",
    "df[\"ORGANIZATION_TYPE\"].value_counts().sort_index()"
   ]
  },
  {
   "cell_type": "code",
   "execution_count": 8,
   "metadata": {},
   "outputs": [],
   "source": [
    "m = df.ORGANIZATION_TYPE.isin(['0','1'])\n",
    "df.loc[m,['ORGANIZATION_TYPE','EXT_SOURCE_1']] = df.loc[m,['EXT_SOURCE_1','ORGANIZATION_TYPE']].values"
   ]
  },
  {
   "cell_type": "code",
   "execution_count": 9,
   "metadata": {},
   "outputs": [
    {
     "data": {
      "text/plain": [
       "Advertising                 12\n",
       "Agriculture                 67\n",
       "Bank                        87\n",
       "Business Entity Type 1     174\n",
       "Business Entity Type 2     316\n",
       "Business Entity Type 3    2216\n",
       "Cleaning                     7\n",
       "Construction               210\n",
       "Culture                     15\n",
       "Electricity                 24\n",
       "Emergency                   25\n",
       "Government                 336\n",
       "Hotel                       43\n",
       "Housing                    114\n",
       "Industry: type 1            36\n",
       "Industry: type 10            8\n",
       "Industry: type 11           96\n",
       "Industry: type 12           17\n",
       "Industry: type 13            4\n",
       "Industry: type 2            17\n",
       "Industry: type 3           125\n",
       "Industry: type 4            20\n",
       "Industry: type 5            14\n",
       "Industry: type 6             3\n",
       "Industry: type 7            48\n",
       "Industry: type 8             1\n",
       "Industry: type 9           104\n",
       "Insurance                   20\n",
       "Kindergarten               245\n",
       "Legal Services               9\n",
       "Medicine                   379\n",
       "Military                    85\n",
       "Mobile                      10\n",
       "Other                      547\n",
       "Police                      68\n",
       "Postal                      70\n",
       "Realtor                      8\n",
       "Religion                     2\n",
       "Restaurant                  41\n",
       "School                     280\n",
       "Security                    83\n",
       "Security Ministries         68\n",
       "Self-employed             1330\n",
       "Services                    73\n",
       "Telecom                     25\n",
       "Trade: type 1                8\n",
       "Trade: type 2               52\n",
       "Trade: type 3              114\n",
       "Trade: type 4                1\n",
       "Trade: type 5                4\n",
       "Trade: type 6               21\n",
       "Trade: type 7              215\n",
       "Transport: type 1            7\n",
       "Transport: type 2           96\n",
       "Transport: type 3           35\n",
       "Transport: type 4          160\n",
       "University                  35\n",
       "XNA                       1770\n",
       "Name: ORGANIZATION_TYPE, dtype: int64"
      ]
     },
     "execution_count": 9,
     "metadata": {},
     "output_type": "execute_result"
    }
   ],
   "source": [
    "df[\"ORGANIZATION_TYPE\"].value_counts().sort_index()"
   ]
  },
  {
   "cell_type": "code",
   "execution_count": 10,
   "metadata": {},
   "outputs": [
    {
     "data": {
      "text/plain": [
       "0                         333\n",
       "1                          25\n",
       "Accountants               320\n",
       "Cleaning staff            151\n",
       "Cooking staff             193\n",
       "Core staff                898\n",
       "Drivers                   571\n",
       "HR staff                   18\n",
       "High skill tech staff     363\n",
       "IT staff                   13\n",
       "Laborers                 1673\n",
       "Low-skill Laborers         89\n",
       "Managers                  656\n",
       "Medicine staff            296\n",
       "Private service staff      94\n",
       "Realty agents              22\n",
       "Sales staff              1036\n",
       "Secretaries                46\n",
       "Security staff            187\n",
       "Waiters/barmen staff       37\n",
       "Name: OCCUPATION_TYPE, dtype: int64"
      ]
     },
     "execution_count": 10,
     "metadata": {},
     "output_type": "execute_result"
    }
   ],
   "source": [
    "#\"OCCUPATION_TYPE\" -- \"CNT_FAM_MEMBERS\"\n",
    "df[\"OCCUPATION_TYPE\"].value_counts().sort_index()"
   ]
  },
  {
   "cell_type": "code",
   "execution_count": 11,
   "metadata": {},
   "outputs": [],
   "source": [
    "m = df.OCCUPATION_TYPE.isin(['0','1'])\n",
    "df.loc[m,['OCCUPATION_TYPE','CNT_FAM_MEMBERS']] = df.loc[m,['CNT_FAM_MEMBERS','OCCUPATION_TYPE']].values"
   ]
  },
  {
   "cell_type": "code",
   "execution_count": 12,
   "metadata": {},
   "outputs": [
    {
     "data": {
      "text/plain": [
       "Accountants               328\n",
       "Cleaning staff            151\n",
       "Cooking staff             203\n",
       "Core staff                927\n",
       "Drivers                   606\n",
       "HR staff                   19\n",
       "High skill tech staff     375\n",
       "IT staff                   14\n",
       "Laborers                 1756\n",
       "Low-skill Laborers         92\n",
       "Managers                  672\n",
       "Medicine staff            305\n",
       "Private service staff      97\n",
       "Realty agents              24\n",
       "Sales staff              1068\n",
       "Secretaries                47\n",
       "Security staff            199\n",
       "Waiters/barmen staff       38\n",
       "Name: OCCUPATION_TYPE, dtype: int64"
      ]
     },
     "execution_count": 12,
     "metadata": {},
     "output_type": "execute_result"
    }
   ],
   "source": [
    "df[\"OCCUPATION_TYPE\"].value_counts().sort_index()"
   ]
  },
  {
   "cell_type": "markdown",
   "metadata": {},
   "source": [
    "In the 'FONDKAPREMONT_MODE' column, almost half of its value is NaN (4565/10000). Thus, the data comes in a very inconsistent way where category value is just accounting for 2/3 (3042/4565) of the non-NaN value, and there is no nearest columns with suitable data to do data swapping, so I decided to drop this column out. "
   ]
  },
  {
   "cell_type": "code",
   "execution_count": 13,
   "metadata": {},
   "outputs": [
    {
     "data": {
      "text/plain": [
       "0.0                        58\n",
       "0.0007                      1\n",
       "0.0009                      1\n",
       "0.001                       1\n",
       "0.0011                      3\n",
       "0.0012                      1\n",
       "0.0015                      1\n",
       "0.0018                      1\n",
       "0.0023                      5\n",
       "0.0024                      1\n",
       "0.0027                      1\n",
       "0.0029                      1\n",
       "0.0035                      1\n",
       "0.0036                      1\n",
       "0.0039                      1\n",
       "0.0042                      1\n",
       "0.0043                      1\n",
       "0.0049                      1\n",
       "0.0062                      1\n",
       "0.0066                      1\n",
       "0.0068                      1\n",
       "0.0077                      2\n",
       "0.0081                      1\n",
       "0.0092                      1\n",
       "0.0099                      1\n",
       "0.0105                      1\n",
       "0.0116                      1\n",
       "0.012                       1\n",
       "0.0132                      1\n",
       "0.0133                      1\n",
       "                         ... \n",
       "0.0455                      1\n",
       "0.0469                      1\n",
       "0.0472                      1\n",
       "0.0491                      1\n",
       "0.0523                      1\n",
       "0.0524                      1\n",
       "0.0525                      1\n",
       "0.0585                      1\n",
       "0.0611                      1\n",
       "0.063                       1\n",
       "0.0694                      1\n",
       "0.0695                      1\n",
       "0.0713                      1\n",
       "0.0721                      1\n",
       "0.0934                      1\n",
       "0.0972                      1\n",
       "0.1032                      1\n",
       "0.1052                      1\n",
       "0.122                       1\n",
       "0.1546                      1\n",
       "0.1881                      1\n",
       "0.2009                      1\n",
       "0.2175                      1\n",
       "0.3391                      1\n",
       "0.4709                      1\n",
       "0.7215                      1\n",
       "not specified             162\n",
       "org spec account          173\n",
       "reg oper account         2351\n",
       "reg oper spec account     356\n",
       "Name: FONDKAPREMONT_MODE, Length: 83, dtype: int64"
      ]
     },
     "execution_count": 13,
     "metadata": {},
     "output_type": "execute_result"
    }
   ],
   "source": [
    "df[\"FONDKAPREMONT_MODE\"].value_counts().sort_index()"
   ]
  },
  {
   "cell_type": "code",
   "execution_count": 14,
   "metadata": {},
   "outputs": [
    {
     "data": {
      "text/plain": [
       "3187"
      ]
     },
     "execution_count": 14,
     "metadata": {},
     "output_type": "execute_result"
    }
   ],
   "source": [
    "df['FONDKAPREMONT_MODE'].count()"
   ]
  },
  {
   "cell_type": "code",
   "execution_count": 15,
   "metadata": {},
   "outputs": [],
   "source": [
    "df.drop(columns = ['FONDKAPREMONT_MODE'], inplace = True)"
   ]
  },
  {
   "cell_type": "markdown",
   "metadata": {},
   "source": [
    "For 'WALLSMATERIAL_MODE', 'EMERGENCYSTATE_MODE', 'NAME_TYPE_SUITE', 'NAME_INCOME_TYPE', besides NaN cells which is similar to the case above, there is a format error with values appears like \"Stone or brik\", so I will have the residual apostrophe removed."
   ]
  },
  {
   "cell_type": "code",
   "execution_count": 16,
   "metadata": {},
   "outputs": [],
   "source": [
    "df['WALLSMATERIAL_MODE'] = df['WALLSMATERIAL_MODE'].str.replace(r\"[\\\"\\', ]\", '')\n",
    "df['EMERGENCYSTATE_MODE'] = df['EMERGENCYSTATE_MODE'].str.replace(r\"[\\\"\\', ]\", '')\n",
    "df['NAME_TYPE_SUITE'] = df['NAME_TYPE_SUITE'].str.replace(r\"[\\\"\\', ]\", '')\n",
    "df['NAME_INCOME_TYPE'] = df['NAME_INCOME_TYPE'].str.replace(r\"[\\\"\\', ]\", '')"
   ]
  },
  {
   "cell_type": "code",
   "execution_count": 17,
   "metadata": {},
   "outputs": [
    {
     "data": {
      "text/plain": [
       "0.0                  13\n",
       "0.0001                1\n",
       "0.0006                1\n",
       "0.0007                2\n",
       "0.0008                2\n",
       "0.001                 2\n",
       "0.0011                2\n",
       "0.0012                3\n",
       "0.0013                3\n",
       "0.0014                5\n",
       "0.0015                7\n",
       "0.0016                5\n",
       "0.0017                4\n",
       "0.0018                5\n",
       "0.0019                3\n",
       "0.002                 4\n",
       "0.0021                6\n",
       "0.0022                1\n",
       "0.0023                9\n",
       "0.0024                9\n",
       "0.0025                8\n",
       "0.0026                2\n",
       "0.0027                5\n",
       "0.0028                4\n",
       "0.0029                3\n",
       "0.003                 2\n",
       "0.0031                2\n",
       "0.0032                2\n",
       "0.0033                3\n",
       "0.0034                2\n",
       "                   ... \n",
       "0.6093                1\n",
       "0.6142                1\n",
       "0.6182                1\n",
       "0.6196                1\n",
       "0.6216                1\n",
       "0.622                 1\n",
       "0.6271                1\n",
       "0.6272                1\n",
       "0.6287                1\n",
       "0.6307                1\n",
       "0.631                 1\n",
       "0.6546                1\n",
       "0.6596                1\n",
       "0.6619                1\n",
       "0.6783                1\n",
       "0.6791                1\n",
       "0.6861                1\n",
       "0.701                 1\n",
       "0.7059                1\n",
       "0.7334                1\n",
       "0.7343                1\n",
       "0.7502                1\n",
       "0.7628                1\n",
       "0.7935                1\n",
       "0.8381                1\n",
       "0.8943                1\n",
       "0.9468                1\n",
       "1.0                   2\n",
       "block of flats      151\n",
       "specific housing      1\n",
       "Name: TOTALAREA_MODE, Length: 2090, dtype: int64"
      ]
     },
     "execution_count": 17,
     "metadata": {},
     "output_type": "execute_result"
    }
   ],
   "source": [
    "#\"WALLSMATERIAL_MODE\" -- \"TOTALAREA_MODE\"\n",
    "df[\"TOTALAREA_MODE\"].value_counts().sort_index()"
   ]
  },
  {
   "cell_type": "code",
   "execution_count": 18,
   "metadata": {},
   "outputs": [],
   "source": [
    "#swap misplace data between TOTALAREA_MODE and WALLSMATERIAL_MODE\n",
    "m = df.TOTALAREA_MODE.isin(['block of flats','specific housing'])\n",
    "df.loc[m,['WALLSMATERIAL_MODE','TOTALAREA_MODE']] = df.loc[m,['TOTALAREA_MODE','WALLSMATERIAL_MODE']].values"
   ]
  },
  {
   "cell_type": "code",
   "execution_count": 19,
   "metadata": {},
   "outputs": [
    {
     "data": {
      "text/plain": [
       "0.0       13\n",
       "0.0001     1\n",
       "0.0006     1\n",
       "0.0007     2\n",
       "0.0008     2\n",
       "0.001      2\n",
       "0.0011     2\n",
       "0.0012     3\n",
       "0.0013     3\n",
       "0.0014     5\n",
       "0.0015     7\n",
       "0.0016     5\n",
       "0.0017     4\n",
       "0.0018     5\n",
       "0.0019     3\n",
       "0.002      4\n",
       "0.0021     6\n",
       "0.0022     1\n",
       "0.0023     9\n",
       "0.0024     9\n",
       "0.0025     8\n",
       "0.0026     2\n",
       "0.0027     5\n",
       "0.0028     4\n",
       "0.0029     3\n",
       "0.003      3\n",
       "0.0031     2\n",
       "0.0032     2\n",
       "0.0033     3\n",
       "0.0034     2\n",
       "          ..\n",
       "0.5984     1\n",
       "0.6048     1\n",
       "0.6093     1\n",
       "0.6142     1\n",
       "0.6182     1\n",
       "0.6196     1\n",
       "0.6216     1\n",
       "0.622      1\n",
       "0.6271     1\n",
       "0.6272     1\n",
       "0.6287     1\n",
       "0.6307     1\n",
       "0.631      1\n",
       "0.6546     1\n",
       "0.6596     1\n",
       "0.6619     1\n",
       "0.6783     1\n",
       "0.6791     1\n",
       "0.6861     1\n",
       "0.701      1\n",
       "0.7059     1\n",
       "0.7334     1\n",
       "0.7343     1\n",
       "0.7502     1\n",
       "0.7628     1\n",
       "0.7935     1\n",
       "0.8381     1\n",
       "0.8943     1\n",
       "0.9468     1\n",
       "1.0        2\n",
       "Name: TOTALAREA_MODE, Length: 2113, dtype: int64"
      ]
     },
     "execution_count": 19,
     "metadata": {},
     "output_type": "execute_result"
    }
   ],
   "source": [
    "df[\"TOTALAREA_MODE\"].value_counts().sort_index()"
   ]
  },
  {
   "cell_type": "markdown",
   "metadata": {},
   "source": [
    "Values in 'OBS_30_CNT_SOCIAL_CIRCLE' column is really inconsistent as I observed in the csv file. This maybe caused by incorrection in data entry. Besides, we have 2 columns for 60 days of observation which is already include the two 30 days of observation columns, thus will have high correlation and create a bad effect towards the model, so I will drop the two 30-ones and keep the 60-ones."
   ]
  },
  {
   "cell_type": "code",
   "execution_count": 20,
   "metadata": {},
   "outputs": [],
   "source": [
    "df.drop(columns = ['OBS_30_CNT_SOCIAL_CIRCLE','DEF_30_CNT_SOCIAL_CIRCLE'], inplace = True)"
   ]
  },
  {
   "cell_type": "markdown",
   "metadata": {},
   "source": [
    "I have also seen that there are a couple of NaN values in AMT-columns and these just accuounting for a small minority. These column values has exclude one another, so I will keep them all and replace these NaN values by '0'"
   ]
  },
  {
   "cell_type": "code",
   "execution_count": 21,
   "metadata": {},
   "outputs": [
    {
     "data": {
      "text/plain": [
       "10.52"
      ]
     },
     "execution_count": 21,
     "metadata": {},
     "output_type": "execute_result"
    }
   ],
   "source": [
    "df['AMT_REQ_CREDIT_BUREAU_HOUR'].isnull().sum()/df.shape[0]*100"
   ]
  },
  {
   "cell_type": "code",
   "execution_count": 22,
   "metadata": {},
   "outputs": [
    {
     "data": {
      "text/plain": [
       "13.56"
      ]
     },
     "execution_count": 22,
     "metadata": {},
     "output_type": "execute_result"
    }
   ],
   "source": [
    "df['AMT_REQ_CREDIT_BUREAU_DAY'].isnull().sum()/df.shape[0]*100"
   ]
  },
  {
   "cell_type": "code",
   "execution_count": 23,
   "metadata": {},
   "outputs": [
    {
     "data": {
      "text/plain": [
       "13.639999999999999"
      ]
     },
     "execution_count": 23,
     "metadata": {},
     "output_type": "execute_result"
    }
   ],
   "source": [
    "df['AMT_REQ_CREDIT_BUREAU_WEEK'].isnull().sum()/df.shape[0]*100"
   ]
  },
  {
   "cell_type": "code",
   "execution_count": 24,
   "metadata": {},
   "outputs": [
    {
     "data": {
      "text/plain": [
       "13.639999999999999"
      ]
     },
     "execution_count": 24,
     "metadata": {},
     "output_type": "execute_result"
    }
   ],
   "source": [
    "df['AMT_REQ_CREDIT_BUREAU_MON'].isnull().sum()/df.shape[0]*100"
   ]
  },
  {
   "cell_type": "code",
   "execution_count": 25,
   "metadata": {},
   "outputs": [
    {
     "data": {
      "text/plain": [
       "13.639999999999999"
      ]
     },
     "execution_count": 25,
     "metadata": {},
     "output_type": "execute_result"
    }
   ],
   "source": [
    "df['AMT_REQ_CREDIT_BUREAU_QRT'].isnull().sum()/df.shape[0]*100"
   ]
  },
  {
   "cell_type": "code",
   "execution_count": 26,
   "metadata": {},
   "outputs": [
    {
     "data": {
      "text/plain": [
       "13.639999999999999"
      ]
     },
     "execution_count": 26,
     "metadata": {},
     "output_type": "execute_result"
    }
   ],
   "source": [
    "df['AMT_REQ_CREDIT_BUREAU_YEAR'].isnull().sum()/df.shape[0]*100"
   ]
  },
  {
   "cell_type": "code",
   "execution_count": 27,
   "metadata": {},
   "outputs": [],
   "source": [
    "df['AMT_REQ_CREDIT_BUREAU_HOUR'].fillna(0, inplace=True)\n",
    "df['AMT_REQ_CREDIT_BUREAU_DAY'].fillna(0, inplace=True)\n",
    "df['AMT_REQ_CREDIT_BUREAU_WEEK'].fillna(0, inplace=True)\n",
    "df['AMT_REQ_CREDIT_BUREAU_MON'].fillna(0, inplace=True)\n",
    "df['AMT_REQ_CREDIT_BUREAU_QRT'].fillna(0, inplace=True)\n",
    "df['AMT_REQ_CREDIT_BUREAU_YEAR'].fillna(0, inplace=True)"
   ]
  },
  {
   "cell_type": "markdown",
   "metadata": {},
   "source": [
    "For variables have no effect on predict one's default credit loan like loan ID, who was accompanying with the clinet, at what hour did the client applied, I will drop them out"
   ]
  },
  {
   "cell_type": "code",
   "execution_count": 28,
   "metadata": {},
   "outputs": [],
   "source": [
    "df.drop(columns = ['SK_ID_CURR','NAME_TYPE_SUITE','HOUR_APPR_PROCESS_START'], inplace = True)"
   ]
  },
  {
   "cell_type": "code",
   "execution_count": 29,
   "metadata": {},
   "outputs": [
    {
     "data": {
      "text/html": [
       "<div>\n",
       "<style scoped>\n",
       "    .dataframe tbody tr th:only-of-type {\n",
       "        vertical-align: middle;\n",
       "    }\n",
       "\n",
       "    .dataframe tbody tr th {\n",
       "        vertical-align: top;\n",
       "    }\n",
       "\n",
       "    .dataframe thead th {\n",
       "        text-align: right;\n",
       "    }\n",
       "</style>\n",
       "<table border=\"1\" class=\"dataframe\">\n",
       "  <thead>\n",
       "    <tr style=\"text-align: right;\">\n",
       "      <th></th>\n",
       "      <th>TARGET</th>\n",
       "      <th>CNT_CHILDREN</th>\n",
       "      <th>AMT_INCOME_TOTAL</th>\n",
       "      <th>AMT_CREDIT</th>\n",
       "      <th>AMT_ANNUITY</th>\n",
       "      <th>AMT_GOODS_PRICE</th>\n",
       "      <th>DAYS_BIRTH</th>\n",
       "      <th>DAYS_EMPLOYED</th>\n",
       "      <th>DAYS_REGISTRATION</th>\n",
       "      <th>DAYS_ID_PUBLISH</th>\n",
       "      <th>...</th>\n",
       "      <th>FLAG_DOCUMENT_18</th>\n",
       "      <th>FLAG_DOCUMENT_19</th>\n",
       "      <th>FLAG_DOCUMENT_20</th>\n",
       "      <th>FLAG_DOCUMENT_21</th>\n",
       "      <th>AMT_REQ_CREDIT_BUREAU_HOUR</th>\n",
       "      <th>AMT_REQ_CREDIT_BUREAU_DAY</th>\n",
       "      <th>AMT_REQ_CREDIT_BUREAU_WEEK</th>\n",
       "      <th>AMT_REQ_CREDIT_BUREAU_MON</th>\n",
       "      <th>AMT_REQ_CREDIT_BUREAU_QRT</th>\n",
       "      <th>AMT_REQ_CREDIT_BUREAU_YEAR</th>\n",
       "    </tr>\n",
       "  </thead>\n",
       "  <tbody>\n",
       "    <tr>\n",
       "      <th>count</th>\n",
       "      <td>10000.000000</td>\n",
       "      <td>10000.000000</td>\n",
       "      <td>1.000000e+04</td>\n",
       "      <td>1.000000e+04</td>\n",
       "      <td>10000.000000</td>\n",
       "      <td>9.992000e+03</td>\n",
       "      <td>10000.000000</td>\n",
       "      <td>10000.000000</td>\n",
       "      <td>10000.00000</td>\n",
       "      <td>10000.000000</td>\n",
       "      <td>...</td>\n",
       "      <td>10000.000000</td>\n",
       "      <td>10000.000000</td>\n",
       "      <td>10000.000000</td>\n",
       "      <td>10000.000000</td>\n",
       "      <td>10000.000000</td>\n",
       "      <td>10000.000000</td>\n",
       "      <td>10000.00000</td>\n",
       "      <td>10000.000000</td>\n",
       "      <td>10000.000000</td>\n",
       "      <td>10000.000000</td>\n",
       "    </tr>\n",
       "    <tr>\n",
       "      <th>mean</th>\n",
       "      <td>0.078700</td>\n",
       "      <td>0.414700</td>\n",
       "      <td>1.678845e+05</td>\n",
       "      <td>6.021343e+05</td>\n",
       "      <td>27127.039500</td>\n",
       "      <td>5.415649e+05</td>\n",
       "      <td>-15465.465940</td>\n",
       "      <td>60238.886400</td>\n",
       "      <td>-2952.31930</td>\n",
       "      <td>-3046.617400</td>\n",
       "      <td>...</td>\n",
       "      <td>0.005600</td>\n",
       "      <td>0.002200</td>\n",
       "      <td>0.000600</td>\n",
       "      <td>0.000400</td>\n",
       "      <td>0.004400</td>\n",
       "      <td>0.007900</td>\n",
       "      <td>0.02310</td>\n",
       "      <td>0.182600</td>\n",
       "      <td>0.235900</td>\n",
       "      <td>1.298100</td>\n",
       "    </tr>\n",
       "    <tr>\n",
       "      <th>std</th>\n",
       "      <td>0.269283</td>\n",
       "      <td>0.715664</td>\n",
       "      <td>9.490227e+04</td>\n",
       "      <td>4.041451e+05</td>\n",
       "      <td>14443.148728</td>\n",
       "      <td>3.713931e+05</td>\n",
       "      <td>5206.049419</td>\n",
       "      <td>138913.099633</td>\n",
       "      <td>27109.52684</td>\n",
       "      <td>1657.722911</td>\n",
       "      <td>...</td>\n",
       "      <td>0.074627</td>\n",
       "      <td>0.046855</td>\n",
       "      <td>0.024489</td>\n",
       "      <td>0.019997</td>\n",
       "      <td>0.069146</td>\n",
       "      <td>0.114188</td>\n",
       "      <td>0.16604</td>\n",
       "      <td>0.754397</td>\n",
       "      <td>0.687094</td>\n",
       "      <td>1.734225</td>\n",
       "    </tr>\n",
       "    <tr>\n",
       "      <th>min</th>\n",
       "      <td>0.000000</td>\n",
       "      <td>0.000000</td>\n",
       "      <td>2.565000e+04</td>\n",
       "      <td>4.500000e+04</td>\n",
       "      <td>2596.500000</td>\n",
       "      <td>4.500000e+04</td>\n",
       "      <td>-25160.000000</td>\n",
       "      <td>-25059.000000</td>\n",
       "      <td>-20981.00000</td>\n",
       "      <td>-16222.000000</td>\n",
       "      <td>...</td>\n",
       "      <td>0.000000</td>\n",
       "      <td>0.000000</td>\n",
       "      <td>0.000000</td>\n",
       "      <td>0.000000</td>\n",
       "      <td>0.000000</td>\n",
       "      <td>0.000000</td>\n",
       "      <td>0.00000</td>\n",
       "      <td>0.000000</td>\n",
       "      <td>0.000000</td>\n",
       "      <td>0.000000</td>\n",
       "    </tr>\n",
       "    <tr>\n",
       "      <th>25%</th>\n",
       "      <td>0.000000</td>\n",
       "      <td>0.000000</td>\n",
       "      <td>1.125000e+05</td>\n",
       "      <td>2.700000e+05</td>\n",
       "      <td>16452.000000</td>\n",
       "      <td>2.385000e+05</td>\n",
       "      <td>-19488.000000</td>\n",
       "      <td>-3058.250000</td>\n",
       "      <td>-7358.00000</td>\n",
       "      <td>-4317.000000</td>\n",
       "      <td>...</td>\n",
       "      <td>0.000000</td>\n",
       "      <td>0.000000</td>\n",
       "      <td>0.000000</td>\n",
       "      <td>0.000000</td>\n",
       "      <td>0.000000</td>\n",
       "      <td>0.000000</td>\n",
       "      <td>0.00000</td>\n",
       "      <td>0.000000</td>\n",
       "      <td>0.000000</td>\n",
       "      <td>0.000000</td>\n",
       "    </tr>\n",
       "    <tr>\n",
       "      <th>50%</th>\n",
       "      <td>0.000000</td>\n",
       "      <td>0.000000</td>\n",
       "      <td>1.440000e+05</td>\n",
       "      <td>5.147775e+05</td>\n",
       "      <td>25033.500000</td>\n",
       "      <td>4.500000e+05</td>\n",
       "      <td>-15553.500000</td>\n",
       "      <td>-1327.500000</td>\n",
       "      <td>-4347.50000</td>\n",
       "      <td>-3254.000000</td>\n",
       "      <td>...</td>\n",
       "      <td>0.000000</td>\n",
       "      <td>0.000000</td>\n",
       "      <td>0.000000</td>\n",
       "      <td>0.000000</td>\n",
       "      <td>0.000000</td>\n",
       "      <td>0.000000</td>\n",
       "      <td>0.00000</td>\n",
       "      <td>0.000000</td>\n",
       "      <td>0.000000</td>\n",
       "      <td>1.000000</td>\n",
       "    </tr>\n",
       "    <tr>\n",
       "      <th>75%</th>\n",
       "      <td>0.000000</td>\n",
       "      <td>1.000000</td>\n",
       "      <td>2.025000e+05</td>\n",
       "      <td>8.100000e+05</td>\n",
       "      <td>34749.000000</td>\n",
       "      <td>6.885000e+05</td>\n",
       "      <td>-12003.750000</td>\n",
       "      <td>-320.000000</td>\n",
       "      <td>-1849.00000</td>\n",
       "      <td>-1700.750000</td>\n",
       "      <td>...</td>\n",
       "      <td>0.000000</td>\n",
       "      <td>0.000000</td>\n",
       "      <td>0.000000</td>\n",
       "      <td>0.000000</td>\n",
       "      <td>0.000000</td>\n",
       "      <td>0.000000</td>\n",
       "      <td>0.00000</td>\n",
       "      <td>0.000000</td>\n",
       "      <td>0.000000</td>\n",
       "      <td>2.000000</td>\n",
       "    </tr>\n",
       "    <tr>\n",
       "      <th>max</th>\n",
       "      <td>1.000000</td>\n",
       "      <td>7.000000</td>\n",
       "      <td>1.935000e+06</td>\n",
       "      <td>2.961000e+06</td>\n",
       "      <td>135936.000000</td>\n",
       "      <td>2.961000e+06</td>\n",
       "      <td>0.072508</td>\n",
       "      <td>365243.000000</td>\n",
       "      <td>365243.00000</td>\n",
       "      <td>0.000000</td>\n",
       "      <td>...</td>\n",
       "      <td>1.000000</td>\n",
       "      <td>1.000000</td>\n",
       "      <td>1.000000</td>\n",
       "      <td>1.000000</td>\n",
       "      <td>2.000000</td>\n",
       "      <td>4.000000</td>\n",
       "      <td>4.00000</td>\n",
       "      <td>16.000000</td>\n",
       "      <td>14.000000</td>\n",
       "      <td>13.000000</td>\n",
       "    </tr>\n",
       "  </tbody>\n",
       "</table>\n",
       "<p>8 rows × 98 columns</p>\n",
       "</div>"
      ],
      "text/plain": [
       "             TARGET  CNT_CHILDREN  AMT_INCOME_TOTAL    AMT_CREDIT  \\\n",
       "count  10000.000000  10000.000000      1.000000e+04  1.000000e+04   \n",
       "mean       0.078700      0.414700      1.678845e+05  6.021343e+05   \n",
       "std        0.269283      0.715664      9.490227e+04  4.041451e+05   \n",
       "min        0.000000      0.000000      2.565000e+04  4.500000e+04   \n",
       "25%        0.000000      0.000000      1.125000e+05  2.700000e+05   \n",
       "50%        0.000000      0.000000      1.440000e+05  5.147775e+05   \n",
       "75%        0.000000      1.000000      2.025000e+05  8.100000e+05   \n",
       "max        1.000000      7.000000      1.935000e+06  2.961000e+06   \n",
       "\n",
       "         AMT_ANNUITY  AMT_GOODS_PRICE    DAYS_BIRTH  DAYS_EMPLOYED  \\\n",
       "count   10000.000000     9.992000e+03  10000.000000   10000.000000   \n",
       "mean    27127.039500     5.415649e+05 -15465.465940   60238.886400   \n",
       "std     14443.148728     3.713931e+05   5206.049419  138913.099633   \n",
       "min      2596.500000     4.500000e+04 -25160.000000  -25059.000000   \n",
       "25%     16452.000000     2.385000e+05 -19488.000000   -3058.250000   \n",
       "50%     25033.500000     4.500000e+05 -15553.500000   -1327.500000   \n",
       "75%     34749.000000     6.885000e+05 -12003.750000    -320.000000   \n",
       "max    135936.000000     2.961000e+06      0.072508  365243.000000   \n",
       "\n",
       "       DAYS_REGISTRATION  DAYS_ID_PUBLISH             ...              \\\n",
       "count        10000.00000     10000.000000             ...               \n",
       "mean         -2952.31930     -3046.617400             ...               \n",
       "std          27109.52684      1657.722911             ...               \n",
       "min         -20981.00000    -16222.000000             ...               \n",
       "25%          -7358.00000     -4317.000000             ...               \n",
       "50%          -4347.50000     -3254.000000             ...               \n",
       "75%          -1849.00000     -1700.750000             ...               \n",
       "max         365243.00000         0.000000             ...               \n",
       "\n",
       "       FLAG_DOCUMENT_18  FLAG_DOCUMENT_19  FLAG_DOCUMENT_20  FLAG_DOCUMENT_21  \\\n",
       "count      10000.000000      10000.000000      10000.000000      10000.000000   \n",
       "mean           0.005600          0.002200          0.000600          0.000400   \n",
       "std            0.074627          0.046855          0.024489          0.019997   \n",
       "min            0.000000          0.000000          0.000000          0.000000   \n",
       "25%            0.000000          0.000000          0.000000          0.000000   \n",
       "50%            0.000000          0.000000          0.000000          0.000000   \n",
       "75%            0.000000          0.000000          0.000000          0.000000   \n",
       "max            1.000000          1.000000          1.000000          1.000000   \n",
       "\n",
       "       AMT_REQ_CREDIT_BUREAU_HOUR  AMT_REQ_CREDIT_BUREAU_DAY  \\\n",
       "count                10000.000000               10000.000000   \n",
       "mean                     0.004400                   0.007900   \n",
       "std                      0.069146                   0.114188   \n",
       "min                      0.000000                   0.000000   \n",
       "25%                      0.000000                   0.000000   \n",
       "50%                      0.000000                   0.000000   \n",
       "75%                      0.000000                   0.000000   \n",
       "max                      2.000000                   4.000000   \n",
       "\n",
       "       AMT_REQ_CREDIT_BUREAU_WEEK  AMT_REQ_CREDIT_BUREAU_MON  \\\n",
       "count                 10000.00000               10000.000000   \n",
       "mean                      0.02310                   0.182600   \n",
       "std                       0.16604                   0.754397   \n",
       "min                       0.00000                   0.000000   \n",
       "25%                       0.00000                   0.000000   \n",
       "50%                       0.00000                   0.000000   \n",
       "75%                       0.00000                   0.000000   \n",
       "max                       4.00000                  16.000000   \n",
       "\n",
       "       AMT_REQ_CREDIT_BUREAU_QRT  AMT_REQ_CREDIT_BUREAU_YEAR  \n",
       "count               10000.000000                10000.000000  \n",
       "mean                    0.235900                    1.298100  \n",
       "std                     0.687094                    1.734225  \n",
       "min                     0.000000                    0.000000  \n",
       "25%                     0.000000                    0.000000  \n",
       "50%                     0.000000                    1.000000  \n",
       "75%                     0.000000                    2.000000  \n",
       "max                    14.000000                   13.000000  \n",
       "\n",
       "[8 rows x 98 columns]"
      ]
     },
     "execution_count": 29,
     "metadata": {},
     "output_type": "execute_result"
    }
   ],
   "source": [
    "df.describe()"
   ]
  },
  {
   "cell_type": "code",
   "execution_count": 30,
   "metadata": {},
   "outputs": [
    {
     "data": {
      "text/html": [
       "<div>\n",
       "<style scoped>\n",
       "    .dataframe tbody tr th:only-of-type {\n",
       "        vertical-align: middle;\n",
       "    }\n",
       "\n",
       "    .dataframe tbody tr th {\n",
       "        vertical-align: top;\n",
       "    }\n",
       "\n",
       "    .dataframe thead th {\n",
       "        text-align: right;\n",
       "    }\n",
       "</style>\n",
       "<table border=\"1\" class=\"dataframe\">\n",
       "  <thead>\n",
       "    <tr style=\"text-align: right;\">\n",
       "      <th></th>\n",
       "      <th>variable</th>\n",
       "      <th>missing values</th>\n",
       "      <th>filling factor (%)</th>\n",
       "    </tr>\n",
       "  </thead>\n",
       "  <tbody>\n",
       "    <tr>\n",
       "      <th>0</th>\n",
       "      <td>COMMONAREA_AVG</td>\n",
       "      <td>6967</td>\n",
       "      <td>30.33</td>\n",
       "    </tr>\n",
       "    <tr>\n",
       "      <th>1</th>\n",
       "      <td>COMMONAREA_MEDI</td>\n",
       "      <td>6967</td>\n",
       "      <td>30.33</td>\n",
       "    </tr>\n",
       "    <tr>\n",
       "      <th>2</th>\n",
       "      <td>COMMONAREA_MODE</td>\n",
       "      <td>6967</td>\n",
       "      <td>30.33</td>\n",
       "    </tr>\n",
       "    <tr>\n",
       "      <th>3</th>\n",
       "      <td>NONLIVINGAPARTMENTS_MEDI</td>\n",
       "      <td>6887</td>\n",
       "      <td>31.13</td>\n",
       "    </tr>\n",
       "    <tr>\n",
       "      <th>4</th>\n",
       "      <td>NONLIVINGAPARTMENTS_AVG</td>\n",
       "      <td>6887</td>\n",
       "      <td>31.13</td>\n",
       "    </tr>\n",
       "    <tr>\n",
       "      <th>5</th>\n",
       "      <td>NONLIVINGAPARTMENTS_MODE</td>\n",
       "      <td>6887</td>\n",
       "      <td>31.13</td>\n",
       "    </tr>\n",
       "    <tr>\n",
       "      <th>6</th>\n",
       "      <td>LIVINGAPARTMENTS_MEDI</td>\n",
       "      <td>6812</td>\n",
       "      <td>31.88</td>\n",
       "    </tr>\n",
       "    <tr>\n",
       "      <th>7</th>\n",
       "      <td>LIVINGAPARTMENTS_AVG</td>\n",
       "      <td>6812</td>\n",
       "      <td>31.88</td>\n",
       "    </tr>\n",
       "    <tr>\n",
       "      <th>8</th>\n",
       "      <td>LIVINGAPARTMENTS_MODE</td>\n",
       "      <td>6812</td>\n",
       "      <td>31.88</td>\n",
       "    </tr>\n",
       "    <tr>\n",
       "      <th>9</th>\n",
       "      <td>FLOORSMIN_MEDI</td>\n",
       "      <td>6736</td>\n",
       "      <td>32.64</td>\n",
       "    </tr>\n",
       "    <tr>\n",
       "      <th>10</th>\n",
       "      <td>FLOORSMIN_AVG</td>\n",
       "      <td>6736</td>\n",
       "      <td>32.64</td>\n",
       "    </tr>\n",
       "    <tr>\n",
       "      <th>11</th>\n",
       "      <td>FLOORSMIN_MODE</td>\n",
       "      <td>6736</td>\n",
       "      <td>32.64</td>\n",
       "    </tr>\n",
       "    <tr>\n",
       "      <th>12</th>\n",
       "      <td>YEARS_BUILD_MODE</td>\n",
       "      <td>6597</td>\n",
       "      <td>34.03</td>\n",
       "    </tr>\n",
       "    <tr>\n",
       "      <th>13</th>\n",
       "      <td>YEARS_BUILD_MEDI</td>\n",
       "      <td>6597</td>\n",
       "      <td>34.03</td>\n",
       "    </tr>\n",
       "    <tr>\n",
       "      <th>14</th>\n",
       "      <td>YEARS_BUILD_AVG</td>\n",
       "      <td>6597</td>\n",
       "      <td>34.03</td>\n",
       "    </tr>\n",
       "    <tr>\n",
       "      <th>15</th>\n",
       "      <td>OWN_CAR_AGE</td>\n",
       "      <td>6461</td>\n",
       "      <td>35.39</td>\n",
       "    </tr>\n",
       "    <tr>\n",
       "      <th>16</th>\n",
       "      <td>LANDAREA_AVG</td>\n",
       "      <td>5919</td>\n",
       "      <td>40.81</td>\n",
       "    </tr>\n",
       "    <tr>\n",
       "      <th>17</th>\n",
       "      <td>LANDAREA_MEDI</td>\n",
       "      <td>5919</td>\n",
       "      <td>40.81</td>\n",
       "    </tr>\n",
       "    <tr>\n",
       "      <th>18</th>\n",
       "      <td>LANDAREA_MODE</td>\n",
       "      <td>5919</td>\n",
       "      <td>40.81</td>\n",
       "    </tr>\n",
       "    <tr>\n",
       "      <th>19</th>\n",
       "      <td>BASEMENTAREA_MEDI</td>\n",
       "      <td>5798</td>\n",
       "      <td>42.02</td>\n",
       "    </tr>\n",
       "    <tr>\n",
       "      <th>20</th>\n",
       "      <td>BASEMENTAREA_AVG</td>\n",
       "      <td>5798</td>\n",
       "      <td>42.02</td>\n",
       "    </tr>\n",
       "    <tr>\n",
       "      <th>21</th>\n",
       "      <td>BASEMENTAREA_MODE</td>\n",
       "      <td>5798</td>\n",
       "      <td>42.02</td>\n",
       "    </tr>\n",
       "    <tr>\n",
       "      <th>22</th>\n",
       "      <td>NONLIVINGAREA_MEDI</td>\n",
       "      <td>5511</td>\n",
       "      <td>44.89</td>\n",
       "    </tr>\n",
       "    <tr>\n",
       "      <th>23</th>\n",
       "      <td>NONLIVINGAREA_AVG</td>\n",
       "      <td>5511</td>\n",
       "      <td>44.89</td>\n",
       "    </tr>\n",
       "    <tr>\n",
       "      <th>24</th>\n",
       "      <td>NONLIVINGAREA_MODE</td>\n",
       "      <td>5511</td>\n",
       "      <td>44.89</td>\n",
       "    </tr>\n",
       "    <tr>\n",
       "      <th>25</th>\n",
       "      <td>EXT_SOURCE_1</td>\n",
       "      <td>5420</td>\n",
       "      <td>45.80</td>\n",
       "    </tr>\n",
       "    <tr>\n",
       "      <th>26</th>\n",
       "      <td>ELEVATORS_AVG</td>\n",
       "      <td>5343</td>\n",
       "      <td>46.57</td>\n",
       "    </tr>\n",
       "    <tr>\n",
       "      <th>27</th>\n",
       "      <td>ELEVATORS_MODE</td>\n",
       "      <td>5343</td>\n",
       "      <td>46.57</td>\n",
       "    </tr>\n",
       "    <tr>\n",
       "      <th>28</th>\n",
       "      <td>ELEVATORS_MEDI</td>\n",
       "      <td>5343</td>\n",
       "      <td>46.57</td>\n",
       "    </tr>\n",
       "    <tr>\n",
       "      <th>29</th>\n",
       "      <td>WALLSMATERIAL_MODE</td>\n",
       "      <td>5076</td>\n",
       "      <td>49.24</td>\n",
       "    </tr>\n",
       "    <tr>\n",
       "      <th>...</th>\n",
       "      <td>...</td>\n",
       "      <td>...</td>\n",
       "      <td>...</td>\n",
       "    </tr>\n",
       "    <tr>\n",
       "      <th>86</th>\n",
       "      <td>NAME_EDUCATION_TYPE</td>\n",
       "      <td>0</td>\n",
       "      <td>100.00</td>\n",
       "    </tr>\n",
       "    <tr>\n",
       "      <th>87</th>\n",
       "      <td>NAME_INCOME_TYPE</td>\n",
       "      <td>0</td>\n",
       "      <td>100.00</td>\n",
       "    </tr>\n",
       "    <tr>\n",
       "      <th>88</th>\n",
       "      <td>DAYS_EMPLOYED</td>\n",
       "      <td>0</td>\n",
       "      <td>100.00</td>\n",
       "    </tr>\n",
       "    <tr>\n",
       "      <th>89</th>\n",
       "      <td>AMT_ANNUITY</td>\n",
       "      <td>0</td>\n",
       "      <td>100.00</td>\n",
       "    </tr>\n",
       "    <tr>\n",
       "      <th>90</th>\n",
       "      <td>AMT_INCOME_TOTAL</td>\n",
       "      <td>0</td>\n",
       "      <td>100.00</td>\n",
       "    </tr>\n",
       "    <tr>\n",
       "      <th>91</th>\n",
       "      <td>CNT_CHILDREN</td>\n",
       "      <td>0</td>\n",
       "      <td>100.00</td>\n",
       "    </tr>\n",
       "    <tr>\n",
       "      <th>92</th>\n",
       "      <td>FLAG_OWN_REALTY</td>\n",
       "      <td>0</td>\n",
       "      <td>100.00</td>\n",
       "    </tr>\n",
       "    <tr>\n",
       "      <th>93</th>\n",
       "      <td>FLAG_OWN_CAR</td>\n",
       "      <td>0</td>\n",
       "      <td>100.00</td>\n",
       "    </tr>\n",
       "    <tr>\n",
       "      <th>94</th>\n",
       "      <td>CODE_GENDER</td>\n",
       "      <td>0</td>\n",
       "      <td>100.00</td>\n",
       "    </tr>\n",
       "    <tr>\n",
       "      <th>95</th>\n",
       "      <td>NAME_CONTRACT_TYPE</td>\n",
       "      <td>0</td>\n",
       "      <td>100.00</td>\n",
       "    </tr>\n",
       "    <tr>\n",
       "      <th>96</th>\n",
       "      <td>AMT_CREDIT</td>\n",
       "      <td>0</td>\n",
       "      <td>100.00</td>\n",
       "    </tr>\n",
       "    <tr>\n",
       "      <th>97</th>\n",
       "      <td>AMT_REQ_CREDIT_BUREAU_QRT</td>\n",
       "      <td>0</td>\n",
       "      <td>100.00</td>\n",
       "    </tr>\n",
       "    <tr>\n",
       "      <th>98</th>\n",
       "      <td>DAYS_REGISTRATION</td>\n",
       "      <td>0</td>\n",
       "      <td>100.00</td>\n",
       "    </tr>\n",
       "    <tr>\n",
       "      <th>99</th>\n",
       "      <td>FLAG_EMP_PHONE</td>\n",
       "      <td>0</td>\n",
       "      <td>100.00</td>\n",
       "    </tr>\n",
       "    <tr>\n",
       "      <th>100</th>\n",
       "      <td>LIVE_CITY_NOT_WORK_CITY</td>\n",
       "      <td>0</td>\n",
       "      <td>100.00</td>\n",
       "    </tr>\n",
       "    <tr>\n",
       "      <th>101</th>\n",
       "      <td>REG_CITY_NOT_WORK_CITY</td>\n",
       "      <td>0</td>\n",
       "      <td>100.00</td>\n",
       "    </tr>\n",
       "    <tr>\n",
       "      <th>102</th>\n",
       "      <td>REG_CITY_NOT_LIVE_CITY</td>\n",
       "      <td>0</td>\n",
       "      <td>100.00</td>\n",
       "    </tr>\n",
       "    <tr>\n",
       "      <th>103</th>\n",
       "      <td>LIVE_REGION_NOT_WORK_REGION</td>\n",
       "      <td>0</td>\n",
       "      <td>100.00</td>\n",
       "    </tr>\n",
       "    <tr>\n",
       "      <th>104</th>\n",
       "      <td>REG_REGION_NOT_WORK_REGION</td>\n",
       "      <td>0</td>\n",
       "      <td>100.00</td>\n",
       "    </tr>\n",
       "    <tr>\n",
       "      <th>105</th>\n",
       "      <td>REG_REGION_NOT_LIVE_REGION</td>\n",
       "      <td>0</td>\n",
       "      <td>100.00</td>\n",
       "    </tr>\n",
       "    <tr>\n",
       "      <th>106</th>\n",
       "      <td>DAYS_ID_PUBLISH</td>\n",
       "      <td>0</td>\n",
       "      <td>100.00</td>\n",
       "    </tr>\n",
       "    <tr>\n",
       "      <th>107</th>\n",
       "      <td>WEEKDAY_APPR_PROCESS_START</td>\n",
       "      <td>0</td>\n",
       "      <td>100.00</td>\n",
       "    </tr>\n",
       "    <tr>\n",
       "      <th>108</th>\n",
       "      <td>REGION_RATING_CLIENT</td>\n",
       "      <td>0</td>\n",
       "      <td>100.00</td>\n",
       "    </tr>\n",
       "    <tr>\n",
       "      <th>109</th>\n",
       "      <td>CNT_FAM_MEMBERS</td>\n",
       "      <td>0</td>\n",
       "      <td>100.00</td>\n",
       "    </tr>\n",
       "    <tr>\n",
       "      <th>110</th>\n",
       "      <td>FLAG_EMAIL</td>\n",
       "      <td>0</td>\n",
       "      <td>100.00</td>\n",
       "    </tr>\n",
       "    <tr>\n",
       "      <th>111</th>\n",
       "      <td>FLAG_PHONE</td>\n",
       "      <td>0</td>\n",
       "      <td>100.00</td>\n",
       "    </tr>\n",
       "    <tr>\n",
       "      <th>112</th>\n",
       "      <td>FLAG_CONT_MOBILE</td>\n",
       "      <td>0</td>\n",
       "      <td>100.00</td>\n",
       "    </tr>\n",
       "    <tr>\n",
       "      <th>113</th>\n",
       "      <td>FLAG_WORK_PHONE</td>\n",
       "      <td>0</td>\n",
       "      <td>100.00</td>\n",
       "    </tr>\n",
       "    <tr>\n",
       "      <th>114</th>\n",
       "      <td>REGION_RATING_CLIENT_W_CITY</td>\n",
       "      <td>0</td>\n",
       "      <td>100.00</td>\n",
       "    </tr>\n",
       "    <tr>\n",
       "      <th>115</th>\n",
       "      <td>AMT_REQ_CREDIT_BUREAU_YEAR</td>\n",
       "      <td>0</td>\n",
       "      <td>100.00</td>\n",
       "    </tr>\n",
       "  </tbody>\n",
       "</table>\n",
       "<p>116 rows × 3 columns</p>\n",
       "</div>"
      ],
      "text/plain": [
       "                        variable  missing values  filling factor (%)\n",
       "0                 COMMONAREA_AVG            6967               30.33\n",
       "1                COMMONAREA_MEDI            6967               30.33\n",
       "2                COMMONAREA_MODE            6967               30.33\n",
       "3       NONLIVINGAPARTMENTS_MEDI            6887               31.13\n",
       "4        NONLIVINGAPARTMENTS_AVG            6887               31.13\n",
       "5       NONLIVINGAPARTMENTS_MODE            6887               31.13\n",
       "6          LIVINGAPARTMENTS_MEDI            6812               31.88\n",
       "7           LIVINGAPARTMENTS_AVG            6812               31.88\n",
       "8          LIVINGAPARTMENTS_MODE            6812               31.88\n",
       "9                 FLOORSMIN_MEDI            6736               32.64\n",
       "10                 FLOORSMIN_AVG            6736               32.64\n",
       "11                FLOORSMIN_MODE            6736               32.64\n",
       "12              YEARS_BUILD_MODE            6597               34.03\n",
       "13              YEARS_BUILD_MEDI            6597               34.03\n",
       "14               YEARS_BUILD_AVG            6597               34.03\n",
       "15                   OWN_CAR_AGE            6461               35.39\n",
       "16                  LANDAREA_AVG            5919               40.81\n",
       "17                 LANDAREA_MEDI            5919               40.81\n",
       "18                 LANDAREA_MODE            5919               40.81\n",
       "19             BASEMENTAREA_MEDI            5798               42.02\n",
       "20              BASEMENTAREA_AVG            5798               42.02\n",
       "21             BASEMENTAREA_MODE            5798               42.02\n",
       "22            NONLIVINGAREA_MEDI            5511               44.89\n",
       "23             NONLIVINGAREA_AVG            5511               44.89\n",
       "24            NONLIVINGAREA_MODE            5511               44.89\n",
       "25                  EXT_SOURCE_1            5420               45.80\n",
       "26                 ELEVATORS_AVG            5343               46.57\n",
       "27                ELEVATORS_MODE            5343               46.57\n",
       "28                ELEVATORS_MEDI            5343               46.57\n",
       "29            WALLSMATERIAL_MODE            5076               49.24\n",
       "..                           ...             ...                 ...\n",
       "86           NAME_EDUCATION_TYPE               0              100.00\n",
       "87              NAME_INCOME_TYPE               0              100.00\n",
       "88                 DAYS_EMPLOYED               0              100.00\n",
       "89                   AMT_ANNUITY               0              100.00\n",
       "90              AMT_INCOME_TOTAL               0              100.00\n",
       "91                  CNT_CHILDREN               0              100.00\n",
       "92               FLAG_OWN_REALTY               0              100.00\n",
       "93                  FLAG_OWN_CAR               0              100.00\n",
       "94                   CODE_GENDER               0              100.00\n",
       "95            NAME_CONTRACT_TYPE               0              100.00\n",
       "96                    AMT_CREDIT               0              100.00\n",
       "97     AMT_REQ_CREDIT_BUREAU_QRT               0              100.00\n",
       "98             DAYS_REGISTRATION               0              100.00\n",
       "99                FLAG_EMP_PHONE               0              100.00\n",
       "100      LIVE_CITY_NOT_WORK_CITY               0              100.00\n",
       "101       REG_CITY_NOT_WORK_CITY               0              100.00\n",
       "102       REG_CITY_NOT_LIVE_CITY               0              100.00\n",
       "103  LIVE_REGION_NOT_WORK_REGION               0              100.00\n",
       "104   REG_REGION_NOT_WORK_REGION               0              100.00\n",
       "105   REG_REGION_NOT_LIVE_REGION               0              100.00\n",
       "106              DAYS_ID_PUBLISH               0              100.00\n",
       "107   WEEKDAY_APPR_PROCESS_START               0              100.00\n",
       "108         REGION_RATING_CLIENT               0              100.00\n",
       "109              CNT_FAM_MEMBERS               0              100.00\n",
       "110                   FLAG_EMAIL               0              100.00\n",
       "111                   FLAG_PHONE               0              100.00\n",
       "112             FLAG_CONT_MOBILE               0              100.00\n",
       "113              FLAG_WORK_PHONE               0              100.00\n",
       "114  REGION_RATING_CLIENT_W_CITY               0              100.00\n",
       "115   AMT_REQ_CREDIT_BUREAU_YEAR               0              100.00\n",
       "\n",
       "[116 rows x 3 columns]"
      ]
     },
     "execution_count": 30,
     "metadata": {},
     "output_type": "execute_result"
    }
   ],
   "source": [
    "missing_df = df.isnull().sum(axis=0).reset_index()\n",
    "missing_df.columns = ['variable', 'missing values']\n",
    "missing_df['filling factor (%)']=(df.shape[0]-missing_df['missing values'])/df.shape[0]*100\n",
    "missing_df.sort_values('filling factor (%)').reset_index(drop = True)"
   ]
  },
  {
   "cell_type": "markdown",
   "metadata": {},
   "source": [
    "I see that the missing value in the dataset of information of clients about the place they live is huge, like half of the dataset. This may be optional to declare at the first place, and many people ignore it, so we have that much missing value. Even if we try to predict or impute, it won't give a good result. Logically, a credit loan status does not seem to have much relationship with one's place of living condition, so i decide to drop these column out.\n",
    "For EXT_SOURCE columns, I don't really know what are they stand for. As missing values in EXT_SOURCE_1 achieve 50% data, I will drop this too. For EXT_SOURCE_2 and EXT_SOURCE_3, I will replace the missing values by their median values.\n",
    "OWN_CAR_AGE is also a thing. Missing value achieve 60%, I can assume that this dataset is collected in a place where not so many people use car, or still at a young age, or both. Because of so, this variable won't contribute much to the prediction, so I will drop it also."
   ]
  },
  {
   "cell_type": "code",
   "execution_count": 31,
   "metadata": {},
   "outputs": [],
   "source": [
    "drop = ['EXT_SOURCE_1','APARTMENTS_AVG','BASEMENTAREA_AVG','YEARS_BEGINEXPLUATATION_AVG','YEARS_BUILD_AVG','COMMONAREA_AVG','ELEVATORS_AVG','ENTRANCES_AVG','FLOORSMAX_AVG','FLOORSMIN_AVG','LANDAREA_AVG','LIVINGAPARTMENTS_AVG','LIVINGAREA_AVG','NONLIVINGAPARTMENTS_AVG','NONLIVINGAREA_AVG','APARTMENTS_MODE','BASEMENTAREA_MODE','YEARS_BEGINEXPLUATATION_MODE','YEARS_BUILD_MODE','COMMONAREA_MODE','ELEVATORS_MODE','ENTRANCES_MODE','FLOORSMAX_MODE','FLOORSMIN_MODE','LANDAREA_MODE','LIVINGAPARTMENTS_MODE','LIVINGAREA_MODE','NONLIVINGAPARTMENTS_MODE','NONLIVINGAREA_MODE','APARTMENTS_MEDI','BASEMENTAREA_MEDI','YEARS_BEGINEXPLUATATION_MEDI','YEARS_BUILD_MEDI','COMMONAREA_MEDI','ELEVATORS_MEDI','ENTRANCES_MEDI','FLOORSMAX_MEDI','FLOORSMIN_MEDI','LANDAREA_MEDI','LIVINGAPARTMENTS_MEDI','LIVINGAREA_MEDI','NONLIVINGAPARTMENTS_MEDI','NONLIVINGAREA_MEDI','HOUSETYPE_MODE','TOTALAREA_MODE','WALLSMATERIAL_MODE','EMERGENCYSTATE_MODE']\n",
    "df.drop(columns = drop, inplace=True)"
   ]
  },
  {
   "cell_type": "markdown",
   "metadata": {},
   "source": [
    "I noticed that for 'DAYS_BIRTH', 'DAYS_EMPLOYED', 'DAYS_REGISTRATION', there are abnormal values. In 'DAYS_BIRTH', we have many <1 days values and a value of 365243 in 'DAYS_EMPLOYED', 'DAYS_REGISTRATION'. I assume that these are mistake in data entry step. There are 2 ways to handle this: we drop them out and predict, or apply Linear regression to predict an appropriate for these abnormal values\n",
    "Below are the code use to predict and replace NaN values instead of just drop them out. My idea is that we will deploy it in 2 ways, then compare which would have a better result"
   ]
  },
  {
   "cell_type": "code",
   "execution_count": 32,
   "metadata": {},
   "outputs": [],
   "source": [
    "df.drop(df[df.DAYS_BIRTH > 0].index, inplace=True)\n",
    "df.drop(df[df.DAYS_EMPLOYED == 365243].index, inplace=True)\n",
    "df.drop(df[df.DAYS_REGISTRATION > 365243].index, inplace=True)"
   ]
  },
  {
   "cell_type": "raw",
   "metadata": {},
   "source": [
    "#Sample code for DAYS_BIRTH prediction\n",
    "from sklearn.linear_model import LinearRegression\n",
    "from sklearn import preprocessing \n",
    "linreg = LinearRegression()\n",
    "data_to_predict = df[['TARGET','NAME_CONTRACT_TYPE','CODE_GENDER','FLAG_OWN_CAR','FLAG_OWN_REALTY','CNT_CHILDREN','AMT_INCOME_TOTAL','AMT_CREDIT','AMT_ANNUITY','AMT_GOODS_PRICE','NAME_INCOME_TYPE','NAME_EDUCATION_TYPE','NAME_FAMILY_STATUS','NAME_HOUSING_TYPE','REGION_POPULATION_RELATIVE','DAYS_BIRTH']].dropna()\n",
    "label_encoder = preprocessing.LabelEncoder()\n",
    "label_encoder.fit(data_to_predict)\n",
    "#data_to_predict.apply(preprocessing.LabelEncoder().fit_transform)\n",
    "data_to_train = data_to_predict.drop(df[df.DAYS_BIRTH > 0].index)\n",
    "train_data_x = data_to_train.iloc[:,:15] \n",
    "train_data_y = data_to_train.iloc[:,15]\n",
    "#Training with the available data\n",
    "linreg.fit(train_data_x, train_data_y)\n",
    "#Predict then replace with abnormal data\n",
    "test_Data = data_to_predict.iloc[:,:15]\n",
    "days_birth_predicted['DAYS_BIRTH'] = pd.DataFrame(linreg.predict(test_data))\n",
    "data_to_predict.DAYS_BIRTH.replace(df[df.DAYS_BIRTH > 0], days_birth_predicted.DAYS_BIRTH, inplace = True)"
   ]
  },
  {
   "cell_type": "markdown",
   "metadata": {},
   "source": [
    "Data in 'DAYS_BIRTH', 'DAYS_EMPLOYED', 'DAYS_REGISTRATION', 'DAYS_ID_PUBLISH' come in negative, as I am not really sure if these needed to be converted into positive values, I will just keep them as they are. \n",
    "Since I don't know at what year this report was done, so i will make an approximately calculation in converting these 4 variables into year scale for better observation by devide their value by 365."
   ]
  },
  {
   "cell_type": "code",
   "execution_count": 33,
   "metadata": {},
   "outputs": [],
   "source": [
    "df['DAYS_BIRTH'] = df['DAYS_BIRTH']/365\n",
    "df['DAYS_EMPLOYED'] = df['DAYS_EMPLOYED']/365\n",
    "df['DAYS_REGISTRATION'] = df['DAYS_REGISTRATION']/365\n",
    "df['DAYS_ID_PUBLISH'] = df['DAYS_ID_PUBLISH']/365"
   ]
  },
  {
   "cell_type": "code",
   "execution_count": 34,
   "metadata": {},
   "outputs": [
    {
     "data": {
      "text/plain": [
       "(7925, 69)"
      ]
     },
     "execution_count": 34,
     "metadata": {},
     "output_type": "execute_result"
    }
   ],
   "source": [
    "df.shape"
   ]
  },
  {
   "cell_type": "markdown",
   "metadata": {},
   "source": [
    "Format 'DAYS_LAST_PHONE_CHANGE', 'FLAG_DOCUMENT_2', 'FLAG_DOCUMENT_3' into the same scale as did with above DAYS-variables"
   ]
  },
  {
   "cell_type": "code",
   "execution_count": 35,
   "metadata": {},
   "outputs": [],
   "source": [
    "df['DAYS_LAST_PHONE_CHANGE'] = df['DAYS_LAST_PHONE_CHANGE']/365\n",
    "df['FLAG_DOCUMENT_2'] = df['FLAG_DOCUMENT_2']/365\n",
    "df['FLAG_DOCUMENT_2'] = df['FLAG_DOCUMENT_2']/365"
   ]
  },
  {
   "cell_type": "markdown",
   "metadata": {},
   "source": [
    "Fill NaN value for columns that has not so many NaN values by their mean, or the most popular value 'Laborers' in categorical OCCUPATION_TYPE columns, or '0' for column that NaN is assumed for no observation"
   ]
  },
  {
   "cell_type": "code",
   "execution_count": 36,
   "metadata": {},
   "outputs": [],
   "source": [
    "df['AMT_GOODS_PRICE'] = df['AMT_GOODS_PRICE'].fillna(df['AMT_GOODS_PRICE'].mean())\n",
    "df['EXT_SOURCE_2'] = df['EXT_SOURCE_2'].fillna(df['EXT_SOURCE_3'].mean())\n",
    "df['EXT_SOURCE_3'] = df['EXT_SOURCE_3'].fillna(df['EXT_SOURCE_3'].mean())\n",
    "df.drop(columns = ['OWN_CAR_AGE'], inplace=True)\n",
    "df['OCCUPATION_TYPE'] = df['OCCUPATION_TYPE'].fillna('Laborers')\n",
    "df['OBS_60_CNT_SOCIAL_CIRCLE'] = df['OBS_60_CNT_SOCIAL_CIRCLE'].fillna(0)\n",
    "df['DEF_60_CNT_SOCIAL_CIRCLE'] = df['DEF_60_CNT_SOCIAL_CIRCLE'].fillna(0)\n",
    "df['DAYS_LAST_PHONE_CHANGE'] = df['OBS_60_CNT_SOCIAL_CIRCLE'].fillna(0)"
   ]
  },
  {
   "cell_type": "markdown",
   "metadata": {},
   "source": [
    "Final check if all the NaN value has been handling"
   ]
  },
  {
   "cell_type": "code",
   "execution_count": 37,
   "metadata": {},
   "outputs": [
    {
     "data": {
      "text/html": [
       "<div>\n",
       "<style scoped>\n",
       "    .dataframe tbody tr th:only-of-type {\n",
       "        vertical-align: middle;\n",
       "    }\n",
       "\n",
       "    .dataframe tbody tr th {\n",
       "        vertical-align: top;\n",
       "    }\n",
       "\n",
       "    .dataframe thead th {\n",
       "        text-align: right;\n",
       "    }\n",
       "</style>\n",
       "<table border=\"1\" class=\"dataframe\">\n",
       "  <thead>\n",
       "    <tr style=\"text-align: right;\">\n",
       "      <th></th>\n",
       "      <th>variable</th>\n",
       "      <th>missing values</th>\n",
       "      <th>filling factor (%)</th>\n",
       "    </tr>\n",
       "  </thead>\n",
       "  <tbody>\n",
       "    <tr>\n",
       "      <th>0</th>\n",
       "      <td>TARGET</td>\n",
       "      <td>0</td>\n",
       "      <td>100.0</td>\n",
       "    </tr>\n",
       "    <tr>\n",
       "      <th>1</th>\n",
       "      <td>ORGANIZATION_TYPE</td>\n",
       "      <td>0</td>\n",
       "      <td>100.0</td>\n",
       "    </tr>\n",
       "    <tr>\n",
       "      <th>2</th>\n",
       "      <td>EXT_SOURCE_2</td>\n",
       "      <td>0</td>\n",
       "      <td>100.0</td>\n",
       "    </tr>\n",
       "    <tr>\n",
       "      <th>3</th>\n",
       "      <td>EXT_SOURCE_3</td>\n",
       "      <td>0</td>\n",
       "      <td>100.0</td>\n",
       "    </tr>\n",
       "    <tr>\n",
       "      <th>4</th>\n",
       "      <td>OBS_60_CNT_SOCIAL_CIRCLE</td>\n",
       "      <td>0</td>\n",
       "      <td>100.0</td>\n",
       "    </tr>\n",
       "    <tr>\n",
       "      <th>5</th>\n",
       "      <td>DEF_60_CNT_SOCIAL_CIRCLE</td>\n",
       "      <td>0</td>\n",
       "      <td>100.0</td>\n",
       "    </tr>\n",
       "    <tr>\n",
       "      <th>6</th>\n",
       "      <td>DAYS_LAST_PHONE_CHANGE</td>\n",
       "      <td>0</td>\n",
       "      <td>100.0</td>\n",
       "    </tr>\n",
       "    <tr>\n",
       "      <th>7</th>\n",
       "      <td>FLAG_DOCUMENT_2</td>\n",
       "      <td>0</td>\n",
       "      <td>100.0</td>\n",
       "    </tr>\n",
       "    <tr>\n",
       "      <th>8</th>\n",
       "      <td>FLAG_DOCUMENT_3</td>\n",
       "      <td>0</td>\n",
       "      <td>100.0</td>\n",
       "    </tr>\n",
       "    <tr>\n",
       "      <th>9</th>\n",
       "      <td>FLAG_DOCUMENT_4</td>\n",
       "      <td>0</td>\n",
       "      <td>100.0</td>\n",
       "    </tr>\n",
       "    <tr>\n",
       "      <th>10</th>\n",
       "      <td>FLAG_DOCUMENT_5</td>\n",
       "      <td>0</td>\n",
       "      <td>100.0</td>\n",
       "    </tr>\n",
       "    <tr>\n",
       "      <th>11</th>\n",
       "      <td>FLAG_DOCUMENT_6</td>\n",
       "      <td>0</td>\n",
       "      <td>100.0</td>\n",
       "    </tr>\n",
       "    <tr>\n",
       "      <th>12</th>\n",
       "      <td>FLAG_DOCUMENT_7</td>\n",
       "      <td>0</td>\n",
       "      <td>100.0</td>\n",
       "    </tr>\n",
       "    <tr>\n",
       "      <th>13</th>\n",
       "      <td>FLAG_DOCUMENT_8</td>\n",
       "      <td>0</td>\n",
       "      <td>100.0</td>\n",
       "    </tr>\n",
       "    <tr>\n",
       "      <th>14</th>\n",
       "      <td>FLAG_DOCUMENT_9</td>\n",
       "      <td>0</td>\n",
       "      <td>100.0</td>\n",
       "    </tr>\n",
       "    <tr>\n",
       "      <th>15</th>\n",
       "      <td>LIVE_CITY_NOT_WORK_CITY</td>\n",
       "      <td>0</td>\n",
       "      <td>100.0</td>\n",
       "    </tr>\n",
       "    <tr>\n",
       "      <th>16</th>\n",
       "      <td>FLAG_DOCUMENT_10</td>\n",
       "      <td>0</td>\n",
       "      <td>100.0</td>\n",
       "    </tr>\n",
       "    <tr>\n",
       "      <th>17</th>\n",
       "      <td>FLAG_DOCUMENT_12</td>\n",
       "      <td>0</td>\n",
       "      <td>100.0</td>\n",
       "    </tr>\n",
       "    <tr>\n",
       "      <th>18</th>\n",
       "      <td>FLAG_DOCUMENT_13</td>\n",
       "      <td>0</td>\n",
       "      <td>100.0</td>\n",
       "    </tr>\n",
       "    <tr>\n",
       "      <th>19</th>\n",
       "      <td>FLAG_DOCUMENT_14</td>\n",
       "      <td>0</td>\n",
       "      <td>100.0</td>\n",
       "    </tr>\n",
       "    <tr>\n",
       "      <th>20</th>\n",
       "      <td>FLAG_DOCUMENT_15</td>\n",
       "      <td>0</td>\n",
       "      <td>100.0</td>\n",
       "    </tr>\n",
       "    <tr>\n",
       "      <th>21</th>\n",
       "      <td>FLAG_DOCUMENT_16</td>\n",
       "      <td>0</td>\n",
       "      <td>100.0</td>\n",
       "    </tr>\n",
       "    <tr>\n",
       "      <th>22</th>\n",
       "      <td>FLAG_DOCUMENT_17</td>\n",
       "      <td>0</td>\n",
       "      <td>100.0</td>\n",
       "    </tr>\n",
       "    <tr>\n",
       "      <th>23</th>\n",
       "      <td>FLAG_DOCUMENT_18</td>\n",
       "      <td>0</td>\n",
       "      <td>100.0</td>\n",
       "    </tr>\n",
       "    <tr>\n",
       "      <th>24</th>\n",
       "      <td>FLAG_DOCUMENT_19</td>\n",
       "      <td>0</td>\n",
       "      <td>100.0</td>\n",
       "    </tr>\n",
       "    <tr>\n",
       "      <th>25</th>\n",
       "      <td>FLAG_DOCUMENT_20</td>\n",
       "      <td>0</td>\n",
       "      <td>100.0</td>\n",
       "    </tr>\n",
       "    <tr>\n",
       "      <th>26</th>\n",
       "      <td>FLAG_DOCUMENT_21</td>\n",
       "      <td>0</td>\n",
       "      <td>100.0</td>\n",
       "    </tr>\n",
       "    <tr>\n",
       "      <th>27</th>\n",
       "      <td>AMT_REQ_CREDIT_BUREAU_HOUR</td>\n",
       "      <td>0</td>\n",
       "      <td>100.0</td>\n",
       "    </tr>\n",
       "    <tr>\n",
       "      <th>28</th>\n",
       "      <td>AMT_REQ_CREDIT_BUREAU_DAY</td>\n",
       "      <td>0</td>\n",
       "      <td>100.0</td>\n",
       "    </tr>\n",
       "    <tr>\n",
       "      <th>29</th>\n",
       "      <td>AMT_REQ_CREDIT_BUREAU_WEEK</td>\n",
       "      <td>0</td>\n",
       "      <td>100.0</td>\n",
       "    </tr>\n",
       "    <tr>\n",
       "      <th>...</th>\n",
       "      <td>...</td>\n",
       "      <td>...</td>\n",
       "      <td>...</td>\n",
       "    </tr>\n",
       "    <tr>\n",
       "      <th>38</th>\n",
       "      <td>FLAG_OWN_REALTY</td>\n",
       "      <td>0</td>\n",
       "      <td>100.0</td>\n",
       "    </tr>\n",
       "    <tr>\n",
       "      <th>39</th>\n",
       "      <td>CNT_CHILDREN</td>\n",
       "      <td>0</td>\n",
       "      <td>100.0</td>\n",
       "    </tr>\n",
       "    <tr>\n",
       "      <th>40</th>\n",
       "      <td>AMT_INCOME_TOTAL</td>\n",
       "      <td>0</td>\n",
       "      <td>100.0</td>\n",
       "    </tr>\n",
       "    <tr>\n",
       "      <th>41</th>\n",
       "      <td>AMT_CREDIT</td>\n",
       "      <td>0</td>\n",
       "      <td>100.0</td>\n",
       "    </tr>\n",
       "    <tr>\n",
       "      <th>42</th>\n",
       "      <td>AMT_ANNUITY</td>\n",
       "      <td>0</td>\n",
       "      <td>100.0</td>\n",
       "    </tr>\n",
       "    <tr>\n",
       "      <th>43</th>\n",
       "      <td>AMT_GOODS_PRICE</td>\n",
       "      <td>0</td>\n",
       "      <td>100.0</td>\n",
       "    </tr>\n",
       "    <tr>\n",
       "      <th>44</th>\n",
       "      <td>NAME_INCOME_TYPE</td>\n",
       "      <td>0</td>\n",
       "      <td>100.0</td>\n",
       "    </tr>\n",
       "    <tr>\n",
       "      <th>45</th>\n",
       "      <td>NAME_EDUCATION_TYPE</td>\n",
       "      <td>0</td>\n",
       "      <td>100.0</td>\n",
       "    </tr>\n",
       "    <tr>\n",
       "      <th>46</th>\n",
       "      <td>NAME_FAMILY_STATUS</td>\n",
       "      <td>0</td>\n",
       "      <td>100.0</td>\n",
       "    </tr>\n",
       "    <tr>\n",
       "      <th>47</th>\n",
       "      <td>NAME_HOUSING_TYPE</td>\n",
       "      <td>0</td>\n",
       "      <td>100.0</td>\n",
       "    </tr>\n",
       "    <tr>\n",
       "      <th>48</th>\n",
       "      <td>REGION_POPULATION_RELATIVE</td>\n",
       "      <td>0</td>\n",
       "      <td>100.0</td>\n",
       "    </tr>\n",
       "    <tr>\n",
       "      <th>49</th>\n",
       "      <td>DAYS_BIRTH</td>\n",
       "      <td>0</td>\n",
       "      <td>100.0</td>\n",
       "    </tr>\n",
       "    <tr>\n",
       "      <th>50</th>\n",
       "      <td>DAYS_EMPLOYED</td>\n",
       "      <td>0</td>\n",
       "      <td>100.0</td>\n",
       "    </tr>\n",
       "    <tr>\n",
       "      <th>51</th>\n",
       "      <td>DAYS_REGISTRATION</td>\n",
       "      <td>0</td>\n",
       "      <td>100.0</td>\n",
       "    </tr>\n",
       "    <tr>\n",
       "      <th>52</th>\n",
       "      <td>REG_REGION_NOT_WORK_REGION</td>\n",
       "      <td>0</td>\n",
       "      <td>100.0</td>\n",
       "    </tr>\n",
       "    <tr>\n",
       "      <th>53</th>\n",
       "      <td>REG_REGION_NOT_LIVE_REGION</td>\n",
       "      <td>0</td>\n",
       "      <td>100.0</td>\n",
       "    </tr>\n",
       "    <tr>\n",
       "      <th>54</th>\n",
       "      <td>WEEKDAY_APPR_PROCESS_START</td>\n",
       "      <td>0</td>\n",
       "      <td>100.0</td>\n",
       "    </tr>\n",
       "    <tr>\n",
       "      <th>55</th>\n",
       "      <td>REGION_RATING_CLIENT_W_CITY</td>\n",
       "      <td>0</td>\n",
       "      <td>100.0</td>\n",
       "    </tr>\n",
       "    <tr>\n",
       "      <th>56</th>\n",
       "      <td>REGION_RATING_CLIENT</td>\n",
       "      <td>0</td>\n",
       "      <td>100.0</td>\n",
       "    </tr>\n",
       "    <tr>\n",
       "      <th>57</th>\n",
       "      <td>CNT_FAM_MEMBERS</td>\n",
       "      <td>0</td>\n",
       "      <td>100.0</td>\n",
       "    </tr>\n",
       "    <tr>\n",
       "      <th>58</th>\n",
       "      <td>AMT_REQ_CREDIT_BUREAU_QRT</td>\n",
       "      <td>0</td>\n",
       "      <td>100.0</td>\n",
       "    </tr>\n",
       "    <tr>\n",
       "      <th>59</th>\n",
       "      <td>OCCUPATION_TYPE</td>\n",
       "      <td>0</td>\n",
       "      <td>100.0</td>\n",
       "    </tr>\n",
       "    <tr>\n",
       "      <th>60</th>\n",
       "      <td>FLAG_PHONE</td>\n",
       "      <td>0</td>\n",
       "      <td>100.0</td>\n",
       "    </tr>\n",
       "    <tr>\n",
       "      <th>61</th>\n",
       "      <td>FLAG_CONT_MOBILE</td>\n",
       "      <td>0</td>\n",
       "      <td>100.0</td>\n",
       "    </tr>\n",
       "    <tr>\n",
       "      <th>62</th>\n",
       "      <td>FLAG_WORK_PHONE</td>\n",
       "      <td>0</td>\n",
       "      <td>100.0</td>\n",
       "    </tr>\n",
       "    <tr>\n",
       "      <th>63</th>\n",
       "      <td>FLAG_EMP_PHONE</td>\n",
       "      <td>0</td>\n",
       "      <td>100.0</td>\n",
       "    </tr>\n",
       "    <tr>\n",
       "      <th>64</th>\n",
       "      <td>FLAG_MOBIL</td>\n",
       "      <td>0</td>\n",
       "      <td>100.0</td>\n",
       "    </tr>\n",
       "    <tr>\n",
       "      <th>65</th>\n",
       "      <td>DAYS_ID_PUBLISH</td>\n",
       "      <td>0</td>\n",
       "      <td>100.0</td>\n",
       "    </tr>\n",
       "    <tr>\n",
       "      <th>66</th>\n",
       "      <td>FLAG_EMAIL</td>\n",
       "      <td>0</td>\n",
       "      <td>100.0</td>\n",
       "    </tr>\n",
       "    <tr>\n",
       "      <th>67</th>\n",
       "      <td>AMT_REQ_CREDIT_BUREAU_YEAR</td>\n",
       "      <td>0</td>\n",
       "      <td>100.0</td>\n",
       "    </tr>\n",
       "  </tbody>\n",
       "</table>\n",
       "<p>68 rows × 3 columns</p>\n",
       "</div>"
      ],
      "text/plain": [
       "                       variable  missing values  filling factor (%)\n",
       "0                        TARGET               0               100.0\n",
       "1             ORGANIZATION_TYPE               0               100.0\n",
       "2                  EXT_SOURCE_2               0               100.0\n",
       "3                  EXT_SOURCE_3               0               100.0\n",
       "4      OBS_60_CNT_SOCIAL_CIRCLE               0               100.0\n",
       "5      DEF_60_CNT_SOCIAL_CIRCLE               0               100.0\n",
       "6        DAYS_LAST_PHONE_CHANGE               0               100.0\n",
       "7               FLAG_DOCUMENT_2               0               100.0\n",
       "8               FLAG_DOCUMENT_3               0               100.0\n",
       "9               FLAG_DOCUMENT_4               0               100.0\n",
       "10              FLAG_DOCUMENT_5               0               100.0\n",
       "11              FLAG_DOCUMENT_6               0               100.0\n",
       "12              FLAG_DOCUMENT_7               0               100.0\n",
       "13              FLAG_DOCUMENT_8               0               100.0\n",
       "14              FLAG_DOCUMENT_9               0               100.0\n",
       "15      LIVE_CITY_NOT_WORK_CITY               0               100.0\n",
       "16             FLAG_DOCUMENT_10               0               100.0\n",
       "17             FLAG_DOCUMENT_12               0               100.0\n",
       "18             FLAG_DOCUMENT_13               0               100.0\n",
       "19             FLAG_DOCUMENT_14               0               100.0\n",
       "20             FLAG_DOCUMENT_15               0               100.0\n",
       "21             FLAG_DOCUMENT_16               0               100.0\n",
       "22             FLAG_DOCUMENT_17               0               100.0\n",
       "23             FLAG_DOCUMENT_18               0               100.0\n",
       "24             FLAG_DOCUMENT_19               0               100.0\n",
       "25             FLAG_DOCUMENT_20               0               100.0\n",
       "26             FLAG_DOCUMENT_21               0               100.0\n",
       "27   AMT_REQ_CREDIT_BUREAU_HOUR               0               100.0\n",
       "28    AMT_REQ_CREDIT_BUREAU_DAY               0               100.0\n",
       "29   AMT_REQ_CREDIT_BUREAU_WEEK               0               100.0\n",
       "..                          ...             ...                 ...\n",
       "38              FLAG_OWN_REALTY               0               100.0\n",
       "39                 CNT_CHILDREN               0               100.0\n",
       "40             AMT_INCOME_TOTAL               0               100.0\n",
       "41                   AMT_CREDIT               0               100.0\n",
       "42                  AMT_ANNUITY               0               100.0\n",
       "43              AMT_GOODS_PRICE               0               100.0\n",
       "44             NAME_INCOME_TYPE               0               100.0\n",
       "45          NAME_EDUCATION_TYPE               0               100.0\n",
       "46           NAME_FAMILY_STATUS               0               100.0\n",
       "47            NAME_HOUSING_TYPE               0               100.0\n",
       "48   REGION_POPULATION_RELATIVE               0               100.0\n",
       "49                   DAYS_BIRTH               0               100.0\n",
       "50                DAYS_EMPLOYED               0               100.0\n",
       "51            DAYS_REGISTRATION               0               100.0\n",
       "52   REG_REGION_NOT_WORK_REGION               0               100.0\n",
       "53   REG_REGION_NOT_LIVE_REGION               0               100.0\n",
       "54   WEEKDAY_APPR_PROCESS_START               0               100.0\n",
       "55  REGION_RATING_CLIENT_W_CITY               0               100.0\n",
       "56         REGION_RATING_CLIENT               0               100.0\n",
       "57              CNT_FAM_MEMBERS               0               100.0\n",
       "58    AMT_REQ_CREDIT_BUREAU_QRT               0               100.0\n",
       "59              OCCUPATION_TYPE               0               100.0\n",
       "60                   FLAG_PHONE               0               100.0\n",
       "61             FLAG_CONT_MOBILE               0               100.0\n",
       "62              FLAG_WORK_PHONE               0               100.0\n",
       "63               FLAG_EMP_PHONE               0               100.0\n",
       "64                   FLAG_MOBIL               0               100.0\n",
       "65              DAYS_ID_PUBLISH               0               100.0\n",
       "66                   FLAG_EMAIL               0               100.0\n",
       "67   AMT_REQ_CREDIT_BUREAU_YEAR               0               100.0\n",
       "\n",
       "[68 rows x 3 columns]"
      ]
     },
     "execution_count": 37,
     "metadata": {},
     "output_type": "execute_result"
    }
   ],
   "source": [
    "missing_df = df.isnull().sum(axis=0).reset_index()\n",
    "missing_df.columns = ['variable', 'missing values']\n",
    "missing_df['filling factor (%)']=(df.shape[0]-missing_df['missing values'])/df.shape[0]*100\n",
    "missing_df.sort_values('filling factor (%)').reset_index(drop = True)"
   ]
  },
  {
   "cell_type": "code",
   "execution_count": 38,
   "metadata": {},
   "outputs": [
    {
     "data": {
      "text/plain": [
       "Text(0.5,1,'Count the target variable')"
      ]
     },
     "execution_count": 38,
     "metadata": {},
     "output_type": "execute_result"
    },
    {
     "data": {
      "image/png": "[encoded data removed]",
      "text/plain": [
       "<Figure size 432x288 with 1 Axes>"
      ]
     },
     "metadata": {
      "needs_background": "light"
     },
     "output_type": "display_data"
    }
   ],
   "source": [
    "fig , ax = plt.subplots(figsize=(6,4))\n",
    "sns.countplot(x='TARGET', data=df)\n",
    "plt.title(\"Count the target variable\")"
   ]
  },
  {
   "cell_type": "markdown",
   "metadata": {},
   "source": [
    "As we can see, the good status is overwhelm the bad status and may cause incorrect in prediction where accuracy score may score very high but has no meaning on evaluation"
   ]
  },
  {
   "cell_type": "code",
   "execution_count": 39,
   "metadata": {},
   "outputs": [
    {
     "data": {
      "image/png": "[encoded data removed]",
      "text/plain": [
       "<Figure size 432x288 with 1 Axes>"
      ]
     },
     "metadata": {},
     "output_type": "display_data"
    }
   ],
   "source": [
    "sns.set()\n",
    "ax = sns.countplot(x='CODE_GENDER',data=df,hue='TARGET',dodge=False)\n",
    "ax.set_title('Classified customer based on gender')\n",
    "plt.show()"
   ]
  },
  {
   "cell_type": "markdown",
   "metadata": {},
   "source": [
    "The proparbility of the 2 gender in becoming a Bad customer is approximately equal. Female has higher demand in credit loan than male"
   ]
  },
  {
   "cell_type": "code",
   "execution_count": 40,
   "metadata": {},
   "outputs": [
    {
     "data": {
      "image/png": "[encoded data removed]",
      "text/plain": [
       "<Figure size 432x288 with 1 Axes>"
      ]
     },
     "metadata": {},
     "output_type": "display_data"
    }
   ],
   "source": [
    "sns.set()\n",
    "ax = sns.countplot(x='NAME_CONTRACT_TYPE',data=df,hue='TARGET',dodge=False)\n",
    "ax.set_title('Classified customer based on contract type')\n",
    "plt.show()"
   ]
  },
  {
   "cell_type": "markdown",
   "metadata": {},
   "source": [
    "Reliable variable. If a customer issue a revolving loans, it would be more likely they would pay on time, thus identified as a Good customer"
   ]
  },
  {
   "cell_type": "code",
   "execution_count": 41,
   "metadata": {},
   "outputs": [
    {
     "data": {
      "image/png": "[encoded data removed]",
      "text/plain": [
       "<Figure size 432x288 with 1 Axes>"
      ]
     },
     "metadata": {},
     "output_type": "display_data"
    }
   ],
   "source": [
    "sns.set()\n",
    "ax = sns.countplot(x='NAME_INCOME_TYPE',data=df,hue='TARGET',dodge=False)\n",
    "ax.set_title('Classified customer based on income type')\n",
    "plt.show()"
   ]
  },
  {
   "cell_type": "markdown",
   "metadata": {},
   "source": [
    "Reliable variable. If a customer is a stateservant, it would be more likely they would pay on time, thus identified as a Good customer"
   ]
  },
  {
   "cell_type": "code",
   "execution_count": 42,
   "metadata": {},
   "outputs": [
    {
     "data": {
      "image/png": "[encoded data removed]",
      "text/plain": [
       "<Figure size 864x288 with 1 Axes>"
      ]
     },
     "metadata": {},
     "output_type": "display_data"
    }
   ],
   "source": [
    "sns.set()\n",
    "plt.figure(figsize=(12,4))\n",
    "ax = sns.countplot(x='NAME_EDUCATION_TYPE',data=df,hue='TARGET',dodge=False)\n",
    "ax.set_title('Classified customer based on education type')\n",
    "plt.show()"
   ]
  },
  {
   "cell_type": "markdown",
   "metadata": {},
   "source": [
    "People who has low education level seems to have low pay job accompanied, thus lead to a weak finacial status and easier to get evoled in a credit loans product."
   ]
  },
  {
   "cell_type": "code",
   "execution_count": 43,
   "metadata": {},
   "outputs": [
    {
     "data": {
      "image/png": "[encoded data removed]",
      "text/plain": [
       "<Figure size 432x288 with 1 Axes>"
      ]
     },
     "metadata": {},
     "output_type": "display_data"
    }
   ],
   "source": [
    "sns.set()\n",
    "ax = sns.countplot(x='NAME_FAMILY_STATUS',data=df,hue='TARGET',dodge=False)\n",
    "ax.set_title('Classified customer based on family status')\n",
    "plt.show()"
   ]
  },
  {
   "cell_type": "markdown",
   "metadata": {},
   "source": [
    "People who married would encounter many finacial related issues, thus more likely to get envolved in a credit loan."
   ]
  },
  {
   "cell_type": "code",
   "execution_count": 44,
   "metadata": {},
   "outputs": [
    {
     "data": {
      "image/png": "[encoded data removed]",
      "text/plain": [
       "<Figure size 720x288 with 1 Axes>"
      ]
     },
     "metadata": {},
     "output_type": "display_data"
    }
   ],
   "source": [
    "sns.set()\n",
    "plt.figure(figsize=(10,4))\n",
    "ax = sns.countplot(x='NAME_HOUSING_TYPE',data=df,hue='TARGET',dodge=False)\n",
    "ax.set_title('Classified customer based on housing type')\n",
    "plt.show()"
   ]
  },
  {
   "cell_type": "markdown",
   "metadata": {},
   "source": [
    "People who live in a house/ aparment are usually young people that has just moved out, or a small family. These people would encounter many finacial related issues, thus more likely to get envolved in a credit loan."
   ]
  },
  {
   "cell_type": "code",
   "execution_count": 45,
   "metadata": {},
   "outputs": [
    {
     "data": {
      "image/png": "[encoded data removed]",
      "text/plain": [
       "<Figure size 1728x288 with 1 Axes>"
      ]
     },
     "metadata": {},
     "output_type": "display_data"
    }
   ],
   "source": [
    "sns.set()\n",
    "plt.figure(figsize=(24,4))\n",
    "ax = sns.countplot(x='OCCUPATION_TYPE',data=df,hue='TARGET',dodge=False)\n",
    "ax.set_title('Classified customer based on occupation type')\n",
    "plt.show()"
   ]
  },
  {
   "cell_type": "markdown",
   "metadata": {},
   "source": [
    "Not much conclusion in this case. Many NaN value has been replaced by 'Laborers' and usually when people don't want to be specific about their job, they will just declare it as 'Laborers'. Also, the probability of a person to pay their loan on time based on their job has a not really high confidence."
   ]
  },
  {
   "cell_type": "code",
   "execution_count": 46,
   "metadata": {},
   "outputs": [
    {
     "data": {
      "image/png": "[encoded data removed]",
      "text/plain": [
       "<Figure size 576x288 with 1 Axes>"
      ]
     },
     "metadata": {},
     "output_type": "display_data"
    }
   ],
   "source": [
    "sns.set()\n",
    "plt.figure(figsize=(8,4))\n",
    "ax = sns.countplot(x='WEEKDAY_APPR_PROCESS_START',data=df,hue='TARGET',dodge=False)\n",
    "ax.set_title('Classified customer based on weekday')\n",
    "plt.show()"
   ]
  },
  {
   "cell_type": "markdown",
   "metadata": {},
   "source": [
    "A low number of an approve on Saturday and Sunday is just because of regular working time basis. Other days in week don't are approxiamtely equal. I don't feel that this variable will create much impact, so I will drop it out"
   ]
  },
  {
   "cell_type": "code",
   "execution_count": 47,
   "metadata": {},
   "outputs": [
    {
     "data": {
      "image/png": "[encoded data removed]",
      "text/plain": [
       "<Figure size 5760x432 with 1 Axes>"
      ]
     },
     "metadata": {},
     "output_type": "display_data"
    }
   ],
   "source": [
    "sns.set()\n",
    "plt.figure(figsize=(80,6))\n",
    "ax = sns.countplot(x='ORGANIZATION_TYPE',data=df,hue='TARGET',dodge=False)\n",
    "ax.set_title('Classified customer based on organization type')\n",
    "plt.show()"
   ]
  },
  {
   "cell_type": "markdown",
   "metadata": {},
   "source": [
    "People who are self-employed and Business Entity Type 2 are more likely to get involed in a credit loan. This maybe because they have higher income thus lead to a higher demand in buying, or their income is too low that they can not pay right away but using a credit loan product."
   ]
  },
  {
   "cell_type": "code",
   "execution_count": 48,
   "metadata": {},
   "outputs": [],
   "source": [
    "df.drop(columns = ['OCCUPATION_TYPE','WEEKDAY_APPR_PROCESS_START'], inplace = True)"
   ]
  },
  {
   "cell_type": "markdown",
   "metadata": {},
   "source": [
    "Check out correlation between numeric variable to decide which should be kept"
   ]
  },
  {
   "cell_type": "code",
   "execution_count": 49,
   "metadata": {},
   "outputs": [
    {
     "data": {
      "image/png": "[encoded data removed]",
      "text/plain": [
       "<Figure size 1008x864 with 2 Axes>"
      ]
     },
     "metadata": {},
     "output_type": "display_data"
    }
   ],
   "source": [
    "plt.figure(figsize=(14,12))\n",
    "sns.heatmap(df.corr(), linewidths=0.1,vmax=1.0, square=True,  linecolor='white')\n",
    "plt.show()"
   ]
  },
  {
   "cell_type": "markdown",
   "metadata": {},
   "source": [
    "See that 'FLAG_MOBIL' is fill with value '1' and has no effect towards the prediction, I will drop it.\n",
    "'AMT_CREDIT' has high correlation with 'AMT_GOOD_PRICE' is easy to understand, because the biger the price of the good, the biger the credit amount of loan.\n",
    "'DAYS_LAST_PHONE_CHANGE' also has high correlation with 'OBS_60_CNT_SOCIAL_CIRCLE'. But as the heatmap in overall does not have many correlated pairs compare to the number of variables, I will keep these values."
   ]
  },
  {
   "cell_type": "code",
   "execution_count": 50,
   "metadata": {},
   "outputs": [
    {
     "data": {
      "text/plain": [
       "1.0    7925\n",
       "Name: FLAG_MOBIL, dtype: int64"
      ]
     },
     "execution_count": 50,
     "metadata": {},
     "output_type": "execute_result"
    }
   ],
   "source": [
    "df['FLAG_MOBIL'].value_counts()"
   ]
  },
  {
   "cell_type": "code",
   "execution_count": 51,
   "metadata": {},
   "outputs": [],
   "source": [
    "df.drop(columns = ['FLAG_MOBIL'], inplace = True)"
   ]
  },
  {
   "cell_type": "markdown",
   "metadata": {},
   "source": [
    "Apply LabelEncoder for categorical variables"
   ]
  },
  {
   "cell_type": "code",
   "execution_count": 52,
   "metadata": {},
   "outputs": [],
   "source": [
    "from sklearn.preprocessing import LabelEncoder\n",
    "le = LabelEncoder()\n",
    "df['NAME_INCOME_TYPE'] = le.fit_transform(df['NAME_INCOME_TYPE'])\n",
    "df['NAME_EDUCATION_TYPE'] = le.fit_transform(df['NAME_EDUCATION_TYPE'])\n",
    "df['NAME_FAMILY_STATUS'] = le.fit_transform(df['NAME_FAMILY_STATUS'])\n",
    "df['NAME_HOUSING_TYPE'] = le.fit_transform(df['NAME_HOUSING_TYPE'])\n",
    "df['CODE_GENDER'] = le.fit_transform(df['CODE_GENDER'])\n",
    "df['NAME_CONTRACT_TYPE'] = le.fit_transform(df['NAME_CONTRACT_TYPE'])\n",
    "df['ORGANIZATION_TYPE'] = le.fit_transform(df['ORGANIZATION_TYPE'])\n",
    "df['FLAG_OWN_CAR'] = le.fit_transform(df['FLAG_OWN_CAR'])\n",
    "df['FLAG_OWN_REALTY'] = le.fit_transform(df['FLAG_OWN_REALTY'])"
   ]
  },
  {
   "cell_type": "markdown",
   "metadata": {},
   "source": [
    "# II. Data Analysing"
   ]
  },
  {
   "cell_type": "code",
   "execution_count": 53,
   "metadata": {},
   "outputs": [
    {
     "data": {
      "text/plain": [
       "TARGET                           int64\n",
       "NAME_CONTRACT_TYPE               int64\n",
       "CODE_GENDER                      int64\n",
       "FLAG_OWN_CAR                     int64\n",
       "FLAG_OWN_REALTY                  int64\n",
       "CNT_CHILDREN                     int64\n",
       "AMT_INCOME_TOTAL               float64\n",
       "AMT_CREDIT                     float64\n",
       "AMT_ANNUITY                    float64\n",
       "AMT_GOODS_PRICE                float64\n",
       "NAME_INCOME_TYPE                 int64\n",
       "NAME_EDUCATION_TYPE              int64\n",
       "NAME_FAMILY_STATUS               int64\n",
       "NAME_HOUSING_TYPE                int64\n",
       "REGION_POPULATION_RELATIVE      object\n",
       "DAYS_BIRTH                     float64\n",
       "DAYS_EMPLOYED                  float64\n",
       "DAYS_REGISTRATION              float64\n",
       "DAYS_ID_PUBLISH                float64\n",
       "FLAG_EMP_PHONE                   int64\n",
       "FLAG_WORK_PHONE                  int64\n",
       "FLAG_CONT_MOBILE                 int64\n",
       "FLAG_PHONE                       int64\n",
       "FLAG_EMAIL                       int64\n",
       "CNT_FAM_MEMBERS                 object\n",
       "REGION_RATING_CLIENT           float64\n",
       "REGION_RATING_CLIENT_W_CITY      int64\n",
       "REG_REGION_NOT_LIVE_REGION       int64\n",
       "REG_REGION_NOT_WORK_REGION       int64\n",
       "LIVE_REGION_NOT_WORK_REGION      int64\n",
       "                                ...   \n",
       "EXT_SOURCE_3                   float64\n",
       "OBS_60_CNT_SOCIAL_CIRCLE       float64\n",
       "DEF_60_CNT_SOCIAL_CIRCLE       float64\n",
       "DAYS_LAST_PHONE_CHANGE         float64\n",
       "FLAG_DOCUMENT_2                float64\n",
       "FLAG_DOCUMENT_3                float64\n",
       "FLAG_DOCUMENT_4                  int64\n",
       "FLAG_DOCUMENT_5                  int64\n",
       "FLAG_DOCUMENT_6                  int64\n",
       "FLAG_DOCUMENT_7                  int64\n",
       "FLAG_DOCUMENT_8                  int64\n",
       "FLAG_DOCUMENT_9                  int64\n",
       "FLAG_DOCUMENT_10                 int64\n",
       "FLAG_DOCUMENT_11                 int64\n",
       "FLAG_DOCUMENT_12                 int64\n",
       "FLAG_DOCUMENT_13                 int64\n",
       "FLAG_DOCUMENT_14                 int64\n",
       "FLAG_DOCUMENT_15                 int64\n",
       "FLAG_DOCUMENT_16                 int64\n",
       "FLAG_DOCUMENT_17                 int64\n",
       "FLAG_DOCUMENT_18                 int64\n",
       "FLAG_DOCUMENT_19                 int64\n",
       "FLAG_DOCUMENT_20                 int64\n",
       "FLAG_DOCUMENT_21                 int64\n",
       "AMT_REQ_CREDIT_BUREAU_HOUR     float64\n",
       "AMT_REQ_CREDIT_BUREAU_DAY      float64\n",
       "AMT_REQ_CREDIT_BUREAU_WEEK     float64\n",
       "AMT_REQ_CREDIT_BUREAU_MON      float64\n",
       "AMT_REQ_CREDIT_BUREAU_QRT      float64\n",
       "AMT_REQ_CREDIT_BUREAU_YEAR     float64\n",
       "Length: 65, dtype: object"
      ]
     },
     "execution_count": 53,
     "metadata": {},
     "output_type": "execute_result"
    }
   ],
   "source": [
    "df.dtypes"
   ]
  },
  {
   "cell_type": "markdown",
   "metadata": {},
   "source": [
    "Convert object data type to int for model calculation"
   ]
  },
  {
   "cell_type": "code",
   "execution_count": 54,
   "metadata": {},
   "outputs": [],
   "source": [
    "df['REGION_POPULATION_RELATIVE'] = df['REGION_POPULATION_RELATIVE'].astype(str).astype(float)\n",
    "df['CNT_FAM_MEMBERS'] = df['CNT_FAM_MEMBERS'].astype(str).astype(float)"
   ]
  },
  {
   "cell_type": "markdown",
   "metadata": {},
   "source": [
    "### Preparing data for modelling"
   ]
  },
  {
   "cell_type": "markdown",
   "metadata": {},
   "source": [
    "There is 2 way to handle this kind of data. Since the '0' values of TERGET is overwhelm '1' values, I will apply over sampling method to balance the number of records of this binary value. In the same time, I still condcut analysing on the original data to compare is there any differences between the 2 methods."
   ]
  },
  {
   "cell_type": "code",
   "execution_count": 55,
   "metadata": {},
   "outputs": [
    {
     "data": {
      "text/plain": [
       "0    7262\n",
       "1     663\n",
       "Name: TARGET, dtype: int64"
      ]
     },
     "execution_count": 55,
     "metadata": {},
     "output_type": "execute_result"
    }
   ],
   "source": [
    "df['TARGET'].value_counts()"
   ]
  },
  {
   "cell_type": "code",
   "execution_count": 58,
   "metadata": {},
   "outputs": [
    {
     "data": {
      "text/plain": [
       "1    7263\n",
       "0    7262\n",
       "Name: TARGET, dtype: int64"
      ]
     },
     "execution_count": 58,
     "metadata": {},
     "output_type": "execute_result"
    }
   ],
   "source": [
    "from sklearn.utils import resample\n",
    "up_sampling = df[df.TARGET == 0]\n",
    "up_sampling = up_sampling.append(resample(df[df.TARGET == 1], n_samples = 7263, random_state = 0))\n",
    "up_sampling.TARGET.value_counts()"
   ]
  },
  {
   "cell_type": "code",
   "execution_count": 61,
   "metadata": {},
   "outputs": [
    {
     "name": "stdout",
     "output_type": "stream",
     "text": [
      "(7925, 64) (7925,) (14525, 64) (14525,)\n"
     ]
    }
   ],
   "source": [
    "#Create input x and y from upsampled data\n",
    "x = up_sampling.loc[:, up_sampling.columns != 'TARGET']\n",
    "y = up_sampling.TARGET\n",
    "#Create input x_full and y_full from original data\n",
    "x_full = df.loc[:, df.columns != 'TARGET']\n",
    "y_full = df.TARGET\n",
    "print(x_full.shape, y_full.shape, x.shape, y.shape)"
   ]
  },
  {
   "cell_type": "code",
   "execution_count": 64,
   "metadata": {},
   "outputs": [],
   "source": [
    "from sklearn.model_selection import train_test_split\n",
    "from sklearn import preprocessing\n",
    "X_train, X_test, y_train, y_test = train_test_split(x, y, test_size=0.2, random_state=100)\n",
    "X1_train, X1_test, y1_train, y1_test = train_test_split(x_full, y_full, test_size=0.2, random_state=100)"
   ]
  },
  {
   "cell_type": "markdown",
   "metadata": {},
   "source": [
    "### Apply Logistic Regression"
   ]
  },
  {
   "cell_type": "code",
   "execution_count": 62,
   "metadata": {},
   "outputs": [
    {
     "name": "stderr",
     "output_type": "stream",
     "text": [
      "C:\\Users\\Huynh Hung\\AppData\\Local\\Continuum\\anaconda3\\lib\\site-packages\\sklearn\\cross_validation.py:41: DeprecationWarning: This module was deprecated in version 0.18 in favor of the model_selection module into which all the refactored classes and functions are moved. Also note that the interface of the new CV iterators are different from that of this module. This module will be removed in 0.20.\n",
      "  \"This module will be removed in 0.20.\", DeprecationWarning)\n",
      "C:\\Users\\Huynh Hung\\AppData\\Local\\Continuum\\anaconda3\\lib\\site-packages\\sklearn\\grid_search.py:42: DeprecationWarning: This module was deprecated in version 0.18 in favor of the model_selection module into which all the refactored classes and functions are moved. This module will be removed in 0.20.\n",
      "  DeprecationWarning)\n"
     ]
    }
   ],
   "source": [
    "from sklearn.preprocessing import StandardScaler\n",
    "from sklearn.decomposition import PCA\n",
    "from sklearn.linear_model import LogisticRegression\n",
    "from sklearn.pipeline import Pipeline\n",
    "from sklearn.grid_search import GridSearchCV"
   ]
  },
  {
   "cell_type": "markdown",
   "metadata": {},
   "source": [
    "Logistic Regression on up sampling data"
   ]
  },
  {
   "cell_type": "markdown",
   "metadata": {},
   "source": [
    "Create a pipeline which combine StandardScaler() method and LogisticRegression to reduce typing time"
   ]
  },
  {
   "cell_type": "code",
   "execution_count": 63,
   "metadata": {},
   "outputs": [],
   "source": [
    "pipe_lr0 = Pipeline([('scl', StandardScaler()),('clf', LogisticRegression(random_state=100))])"
   ]
  },
  {
   "cell_type": "code",
   "execution_count": 66,
   "metadata": {},
   "outputs": [],
   "source": [
    "prLR0 = pipe_lr0.fit(X_train, y_train)"
   ]
  },
  {
   "cell_type": "code",
   "execution_count": 67,
   "metadata": {},
   "outputs": [
    {
     "name": "stdout",
     "output_type": "stream",
     "text": [
      "             precision    recall  f1-score   support\n",
      "\n",
      "          0       0.69      0.72      0.71      1415\n",
      "          1       0.72      0.69      0.71      1490\n",
      "\n",
      "avg / total       0.71      0.71      0.71      2905\n",
      "\n"
     ]
    }
   ],
   "source": [
    "y_prLR0=prLR0.predict(X_test)\n",
    "from sklearn.metrics import classification_report\n",
    "NoTuning_LR = classification_report(y_test, y_prLR0)\n",
    "print(NoTuning_LR)"
   ]
  },
  {
   "cell_type": "markdown",
   "metadata": {},
   "source": [
    "Tuning using GridSearchCV"
   ]
  },
  {
   "cell_type": "code",
   "execution_count": 68,
   "metadata": {},
   "outputs": [
    {
     "name": "stdout",
     "output_type": "stream",
     "text": [
      "Fitting 3 folds for each of 5 candidates, totalling 15 fits\n",
      "[CV] clf__C=0.1 ......................................................\n",
      "[CV] ............................................. clf__C=0.1 -   0.1s\n",
      "[CV] clf__C=0.1 ......................................................\n",
      "[CV] ............................................. clf__C=0.1 -   0.1s\n",
      "[CV] clf__C=0.1 ......................................................\n"
     ]
    },
    {
     "name": "stderr",
     "output_type": "stream",
     "text": [
      "[Parallel(n_jobs=1)]: Done   1 out of   1 | elapsed:    0.1s remaining:    0.0s\n"
     ]
    },
    {
     "name": "stdout",
     "output_type": "stream",
     "text": [
      "[CV] ............................................. clf__C=0.1 -   0.1s\n",
      "[CV] clf__C=0.3 ......................................................\n",
      "[CV] ............................................. clf__C=0.3 -   0.1s\n",
      "[CV] clf__C=0.3 ......................................................\n",
      "[CV] ............................................. clf__C=0.3 -   0.2s\n",
      "[CV] clf__C=0.3 ......................................................\n",
      "[CV] ............................................. clf__C=0.3 -   0.2s\n",
      "[CV] clf__C=0.5 ......................................................\n",
      "[CV] ............................................. clf__C=0.5 -   0.2s\n",
      "[CV] clf__C=0.5 ......................................................\n",
      "[CV] ............................................. clf__C=0.5 -   0.2s\n",
      "[CV] clf__C=0.5 ......................................................\n",
      "[CV] ............................................. clf__C=0.5 -   0.2s\n",
      "[CV] clf__C=0.8 ......................................................\n",
      "[CV] ............................................. clf__C=0.8 -   0.1s\n",
      "[CV] clf__C=0.8 ......................................................\n",
      "[CV] ............................................. clf__C=0.8 -   0.2s\n",
      "[CV] clf__C=0.8 ......................................................\n",
      "[CV] ............................................. clf__C=0.8 -   0.2s\n",
      "[CV] clf__C=1 ........................................................\n",
      "[CV] ............................................... clf__C=1 -   0.1s\n",
      "[CV] clf__C=1 ........................................................\n",
      "[CV] ............................................... clf__C=1 -   0.2s\n",
      "[CV] clf__C=1 ........................................................\n",
      "[CV] ............................................... clf__C=1 -   0.2s\n"
     ]
    },
    {
     "name": "stderr",
     "output_type": "stream",
     "text": [
      "[Parallel(n_jobs=1)]: Done  15 out of  15 | elapsed:    3.8s finished\n"
     ]
    }
   ],
   "source": [
    "parametersLR0 = dict(clf__C=[0.1,0.3,0.5,0.8,1])\n",
    "GSCV_LR0 = GridSearchCV(pipe_lr0,param_grid=parametersLR0,refit = True, verbose=2)\n",
    "GSCV_FIT_LR0 = GSCV_LR0.fit(X_train, y_train)"
   ]
  },
  {
   "cell_type": "code",
   "execution_count": 71,
   "metadata": {},
   "outputs": [],
   "source": [
    "KQ_GSCV_LR0 = GSCV_FIT_LR0.best_estimator_"
   ]
  },
  {
   "cell_type": "code",
   "execution_count": 70,
   "metadata": {},
   "outputs": [
    {
     "name": "stdout",
     "output_type": "stream",
     "text": [
      "             precision    recall  f1-score   support\n",
      "\n",
      "          0       0.69      0.72      0.71      1415\n",
      "          1       0.72      0.69      0.71      1490\n",
      "\n",
      "avg / total       0.71      0.71      0.71      2905\n",
      "\n"
     ]
    }
   ],
   "source": [
    "Fit_LR0 = KQ_GSCV_LR0.fit(X_train, y_train)\n",
    "y_prLR_0 = Fit_LR0.predict(X_test)\n",
    "Tuning_LR = classification_report(y_test, y_prLR_0)\n",
    "print(Tuning_LR)"
   ]
  },
  {
   "cell_type": "markdown",
   "metadata": {},
   "source": [
    "Logistic Regression on original data"
   ]
  },
  {
   "cell_type": "code",
   "execution_count": 74,
   "metadata": {},
   "outputs": [],
   "source": [
    "prLR_Full = pipe_lr0.fit(X1_train, y1_train)"
   ]
  },
  {
   "cell_type": "code",
   "execution_count": 75,
   "metadata": {},
   "outputs": [
    {
     "name": "stdout",
     "output_type": "stream",
     "text": [
      "             precision    recall  f1-score   support\n",
      "\n",
      "          0       0.92      1.00      0.96      1453\n",
      "          1       0.33      0.01      0.01       132\n",
      "\n",
      "avg / total       0.87      0.92      0.88      1585\n",
      "\n"
     ]
    }
   ],
   "source": [
    "y_prLR_Full = prLR_Full.predict(X1_test)\n",
    "FullData_LR = classification_report(y1_test, y_prLR_Full)\n",
    "print(FullData_LR)"
   ]
  },
  {
   "cell_type": "markdown",
   "metadata": {},
   "source": [
    "Tuning"
   ]
  },
  {
   "cell_type": "code",
   "execution_count": 76,
   "metadata": {},
   "outputs": [
    {
     "name": "stdout",
     "output_type": "stream",
     "text": [
      "Fitting 3 folds for each of 5 candidates, totalling 15 fits\n",
      "[CV] clf__C=0.1 ......................................................\n",
      "[CV] ............................................. clf__C=0.1 -   0.1s\n",
      "[CV] clf__C=0.1 ......................................................\n"
     ]
    },
    {
     "name": "stderr",
     "output_type": "stream",
     "text": [
      "[Parallel(n_jobs=1)]: Done   1 out of   1 | elapsed:    0.1s remaining:    0.0s\n"
     ]
    },
    {
     "name": "stdout",
     "output_type": "stream",
     "text": [
      "[CV] ............................................. clf__C=0.1 -   0.0s\n",
      "[CV] clf__C=0.1 ......................................................\n",
      "[CV] ............................................. clf__C=0.1 -   0.0s\n",
      "[CV] clf__C=0.3 ......................................................\n",
      "[CV] ............................................. clf__C=0.3 -   0.0s\n",
      "[CV] clf__C=0.3 ......................................................\n",
      "[CV] ............................................. clf__C=0.3 -   0.0s\n",
      "[CV] clf__C=0.3 ......................................................\n",
      "[CV] ............................................. clf__C=0.3 -   0.0s\n",
      "[CV] clf__C=0.5 ......................................................\n",
      "[CV] ............................................. clf__C=0.5 -   0.0s\n",
      "[CV] clf__C=0.5 ......................................................\n",
      "[CV] ............................................. clf__C=0.5 -   0.0s\n",
      "[CV] clf__C=0.5 ......................................................\n",
      "[CV] ............................................. clf__C=0.5 -   0.0s\n",
      "[CV] clf__C=0.8 ......................................................\n",
      "[CV] ............................................. clf__C=0.8 -   0.0s\n",
      "[CV] clf__C=0.8 ......................................................\n",
      "[CV] ............................................. clf__C=0.8 -   0.0s\n",
      "[CV] clf__C=0.8 ......................................................\n",
      "[CV] ............................................. clf__C=0.8 -   0.1s\n",
      "[CV] clf__C=1 ........................................................\n",
      "[CV] ............................................... clf__C=1 -   0.0s\n",
      "[CV] clf__C=1 ........................................................\n",
      "[CV] ............................................... clf__C=1 -   0.0s\n",
      "[CV] clf__C=1 ........................................................\n",
      "[CV] ............................................... clf__C=1 -   0.0s\n"
     ]
    },
    {
     "name": "stderr",
     "output_type": "stream",
     "text": [
      "[Parallel(n_jobs=1)]: Done  15 out of  15 | elapsed:    1.6s finished\n"
     ]
    }
   ],
   "source": [
    "parametersLR0 = dict(clf__C=[0.1,0.3,0.5,0.8,1])\n",
    "GSCV_LR_Full = GridSearchCV(pipe_lr0,param_grid=parametersLR0,refit = True, verbose=2)\n",
    "GSCV_FIT_LR_Full = GSCV_LR_Full.fit(X1_train, y1_train)"
   ]
  },
  {
   "cell_type": "code",
   "execution_count": 77,
   "metadata": {},
   "outputs": [],
   "source": [
    "KQ_GSCV_LR_Full = GSCV_FIT_LR_Full.best_estimator_"
   ]
  },
  {
   "cell_type": "code",
   "execution_count": 79,
   "metadata": {},
   "outputs": [
    {
     "name": "stdout",
     "output_type": "stream",
     "text": [
      "             precision    recall  f1-score   support\n",
      "\n",
      "          0       0.92      1.00      0.96      1453\n",
      "          1       0.50      0.01      0.01       132\n",
      "\n",
      "avg / total       0.88      0.92      0.88      1585\n",
      "\n"
     ]
    }
   ],
   "source": [
    "Fit_LR_Full = KQ_GSCV_LR_Full.fit(X1_train, y1_train)\n",
    "y_prLR_Full = Fit_LR_Full.predict(X1_test)\n",
    "Tuning_LR_Full = classification_report(y1_test, y_prLR_Full)\n",
    "print(Tuning_LR_Full)"
   ]
  },
  {
   "cell_type": "markdown",
   "metadata": {},
   "source": [
    "Logistic Regression with PCA"
   ]
  },
  {
   "cell_type": "code",
   "execution_count": 80,
   "metadata": {},
   "outputs": [],
   "source": [
    "pipe_lr1 = Pipeline([('scl', StandardScaler()),('pca', PCA(n_components=2)),('clf', LogisticRegression(random_state=100))])\n",
    "prLR1 = pipe_lr1.fit(X_train, y_train)"
   ]
  },
  {
   "cell_type": "code",
   "execution_count": 81,
   "metadata": {},
   "outputs": [
    {
     "name": "stdout",
     "output_type": "stream",
     "text": [
      "             precision    recall  f1-score   support\n",
      "\n",
      "          0       0.60      0.57      0.59      1415\n",
      "          1       0.61      0.64      0.62      1490\n",
      "\n",
      "avg / total       0.61      0.61      0.61      2905\n",
      "\n"
     ]
    }
   ],
   "source": [
    "y_prLR1=prLR1.predict(X_test)\n",
    "NoTuning_LR_PCA = classification_report(y_test, y_prLR1)\n",
    "print(NoTuning_LR_PCA)"
   ]
  },
  {
   "cell_type": "markdown",
   "metadata": {},
   "source": [
    "Tuning"
   ]
  },
  {
   "cell_type": "code",
   "execution_count": 82,
   "metadata": {},
   "outputs": [
    {
     "name": "stdout",
     "output_type": "stream",
     "text": [
      "Fitting 3 folds for each of 20 candidates, totalling 60 fits\n",
      "[CV] clf__C=0.1, pca__n_components=1 .................................\n",
      "[CV] ........................ clf__C=0.1, pca__n_components=1 -   0.0s\n",
      "[CV] clf__C=0.1, pca__n_components=1 .................................\n",
      "[CV] ........................ clf__C=0.1, pca__n_components=1 -   0.0s\n",
      "[CV] clf__C=0.1, pca__n_components=1 .................................\n",
      "[CV] ........................ clf__C=0.1, pca__n_components=1 -   0.0s\n",
      "[CV] clf__C=0.1, pca__n_components=5 .................................\n"
     ]
    },
    {
     "name": "stderr",
     "output_type": "stream",
     "text": [
      "[Parallel(n_jobs=1)]: Done   1 out of   1 | elapsed:    0.1s remaining:    0.0s\n"
     ]
    },
    {
     "name": "stdout",
     "output_type": "stream",
     "text": [
      "[CV] ........................ clf__C=0.1, pca__n_components=5 -   0.0s\n",
      "[CV] clf__C=0.1, pca__n_components=5 .................................\n",
      "[CV] ........................ clf__C=0.1, pca__n_components=5 -   0.0s\n",
      "[CV] clf__C=0.1, pca__n_components=5 .................................\n",
      "[CV] ........................ clf__C=0.1, pca__n_components=5 -   0.0s\n",
      "[CV] clf__C=0.1, pca__n_components=7 .................................\n",
      "[CV] ........................ clf__C=0.1, pca__n_components=7 -   0.1s\n",
      "[CV] clf__C=0.1, pca__n_components=7 .................................\n",
      "[CV] ........................ clf__C=0.1, pca__n_components=7 -   0.0s\n",
      "[CV] clf__C=0.1, pca__n_components=7 .................................\n",
      "[CV] ........................ clf__C=0.1, pca__n_components=7 -   0.0s\n",
      "[CV] clf__C=0.1, pca__n_components=10 ................................\n",
      "[CV] ....................... clf__C=0.1, pca__n_components=10 -   0.0s\n",
      "[CV] clf__C=0.1, pca__n_components=10 ................................\n",
      "[CV] ....................... clf__C=0.1, pca__n_components=10 -   0.0s\n",
      "[CV] clf__C=0.1, pca__n_components=10 ................................\n",
      "[CV] ....................... clf__C=0.1, pca__n_components=10 -   0.0s\n",
      "[CV] clf__C=0.3, pca__n_components=1 .................................\n",
      "[CV] ........................ clf__C=0.3, pca__n_components=1 -   0.0s\n",
      "[CV] clf__C=0.3, pca__n_components=1 .................................\n",
      "[CV] ........................ clf__C=0.3, pca__n_components=1 -   0.0s\n",
      "[CV] clf__C=0.3, pca__n_components=1 .................................\n",
      "[CV] ........................ clf__C=0.3, pca__n_components=1 -   0.0s\n",
      "[CV] clf__C=0.3, pca__n_components=5 .................................\n",
      "[CV] ........................ clf__C=0.3, pca__n_components=5 -   0.0s\n",
      "[CV] clf__C=0.3, pca__n_components=5 .................................\n",
      "[CV] ........................ clf__C=0.3, pca__n_components=5 -   0.0s\n",
      "[CV] clf__C=0.3, pca__n_components=5 .................................\n",
      "[CV] ........................ clf__C=0.3, pca__n_components=5 -   0.0s\n",
      "[CV] clf__C=0.3, pca__n_components=7 .................................\n",
      "[CV] ........................ clf__C=0.3, pca__n_components=7 -   0.0s\n",
      "[CV] clf__C=0.3, pca__n_components=7 .................................\n",
      "[CV] ........................ clf__C=0.3, pca__n_components=7 -   0.0s\n",
      "[CV] clf__C=0.3, pca__n_components=7 .................................\n",
      "[CV] ........................ clf__C=0.3, pca__n_components=7 -   0.0s\n",
      "[CV] clf__C=0.3, pca__n_components=10 ................................\n",
      "[CV] ....................... clf__C=0.3, pca__n_components=10 -   0.0s\n",
      "[CV] clf__C=0.3, pca__n_components=10 ................................\n",
      "[CV] ....................... clf__C=0.3, pca__n_components=10 -   0.0s\n",
      "[CV] clf__C=0.3, pca__n_components=10 ................................\n",
      "[CV] ....................... clf__C=0.3, pca__n_components=10 -   0.0s\n",
      "[CV] clf__C=0.5, pca__n_components=1 .................................\n",
      "[CV] ........................ clf__C=0.5, pca__n_components=1 -   0.0s\n",
      "[CV] clf__C=0.5, pca__n_components=1 .................................\n",
      "[CV] ........................ clf__C=0.5, pca__n_components=1 -   0.0s\n",
      "[CV] clf__C=0.5, pca__n_components=1 .................................\n",
      "[CV] ........................ clf__C=0.5, pca__n_components=1 -   0.0s\n",
      "[CV] clf__C=0.5, pca__n_components=5 .................................\n",
      "[CV] ........................ clf__C=0.5, pca__n_components=5 -   0.0s\n",
      "[CV] clf__C=0.5, pca__n_components=5 .................................\n",
      "[CV] ........................ clf__C=0.5, pca__n_components=5 -   0.0s\n",
      "[CV] clf__C=0.5, pca__n_components=5 .................................\n",
      "[CV] ........................ clf__C=0.5, pca__n_components=5 -   0.0s\n",
      "[CV] clf__C=0.5, pca__n_components=7 .................................\n",
      "[CV] ........................ clf__C=0.5, pca__n_components=7 -   0.0s\n",
      "[CV] clf__C=0.5, pca__n_components=7 .................................\n",
      "[CV] ........................ clf__C=0.5, pca__n_components=7 -   0.0s\n",
      "[CV] clf__C=0.5, pca__n_components=7 .................................\n",
      "[CV] ........................ clf__C=0.5, pca__n_components=7 -   0.0s\n",
      "[CV] clf__C=0.5, pca__n_components=10 ................................\n",
      "[CV] ....................... clf__C=0.5, pca__n_components=10 -   0.0s\n",
      "[CV] clf__C=0.5, pca__n_components=10 ................................\n",
      "[CV] ....................... clf__C=0.5, pca__n_components=10 -   0.0s\n",
      "[CV] clf__C=0.5, pca__n_components=10 ................................\n",
      "[CV] ....................... clf__C=0.5, pca__n_components=10 -   0.0s\n",
      "[CV] clf__C=0.8, pca__n_components=1 .................................\n",
      "[CV] ........................ clf__C=0.8, pca__n_components=1 -   0.0s\n",
      "[CV] clf__C=0.8, pca__n_components=1 .................................\n",
      "[CV] ........................ clf__C=0.8, pca__n_components=1 -   0.0s\n",
      "[CV] clf__C=0.8, pca__n_components=1 .................................\n",
      "[CV] ........................ clf__C=0.8, pca__n_components=1 -   0.0s\n",
      "[CV] clf__C=0.8, pca__n_components=5 .................................\n",
      "[CV] ........................ clf__C=0.8, pca__n_components=5 -   0.0s\n",
      "[CV] clf__C=0.8, pca__n_components=5 .................................\n",
      "[CV] ........................ clf__C=0.8, pca__n_components=5 -   0.0s\n",
      "[CV] clf__C=0.8, pca__n_components=5 .................................\n",
      "[CV] ........................ clf__C=0.8, pca__n_components=5 -   0.0s\n",
      "[CV] clf__C=0.8, pca__n_components=7 .................................\n",
      "[CV] ........................ clf__C=0.8, pca__n_components=7 -   0.0s\n",
      "[CV] clf__C=0.8, pca__n_components=7 .................................\n",
      "[CV] ........................ clf__C=0.8, pca__n_components=7 -   0.0s\n",
      "[CV] clf__C=0.8, pca__n_components=7 .................................\n",
      "[CV] ........................ clf__C=0.8, pca__n_components=7 -   0.0s\n",
      "[CV] clf__C=0.8, pca__n_components=10 ................................\n",
      "[CV] ....................... clf__C=0.8, pca__n_components=10 -   0.0s\n",
      "[CV] clf__C=0.8, pca__n_components=10 ................................\n",
      "[CV] ....................... clf__C=0.8, pca__n_components=10 -   0.0s\n",
      "[CV] clf__C=0.8, pca__n_components=10 ................................\n",
      "[CV] ....................... clf__C=0.8, pca__n_components=10 -   0.0s\n",
      "[CV] clf__C=1, pca__n_components=1 ...................................\n",
      "[CV] .......................... clf__C=1, pca__n_components=1 -   0.0s\n",
      "[CV] clf__C=1, pca__n_components=1 ...................................\n",
      "[CV] .......................... clf__C=1, pca__n_components=1 -   0.0s\n",
      "[CV] clf__C=1, pca__n_components=1 ...................................\n",
      "[CV] .......................... clf__C=1, pca__n_components=1 -   0.0s\n",
      "[CV] clf__C=1, pca__n_components=5 ...................................\n",
      "[CV] .......................... clf__C=1, pca__n_components=5 -   0.0s\n",
      "[CV] clf__C=1, pca__n_components=5 ...................................\n",
      "[CV] .......................... clf__C=1, pca__n_components=5 -   0.0s\n",
      "[CV] clf__C=1, pca__n_components=5 ...................................\n",
      "[CV] .......................... clf__C=1, pca__n_components=5 -   0.0s\n",
      "[CV] clf__C=1, pca__n_components=7 ...................................\n",
      "[CV] .......................... clf__C=1, pca__n_components=7 -   0.0s\n",
      "[CV] clf__C=1, pca__n_components=7 ...................................\n",
      "[CV] .......................... clf__C=1, pca__n_components=7 -   0.0s\n",
      "[CV] clf__C=1, pca__n_components=7 ...................................\n",
      "[CV] .......................... clf__C=1, pca__n_components=7 -   0.0s\n",
      "[CV] clf__C=1, pca__n_components=10 ..................................\n",
      "[CV] ......................... clf__C=1, pca__n_components=10 -   0.0s\n",
      "[CV] clf__C=1, pca__n_components=10 ..................................\n",
      "[CV] ......................... clf__C=1, pca__n_components=10 -   0.0s\n",
      "[CV] clf__C=1, pca__n_components=10 ..................................\n",
      "[CV] ......................... clf__C=1, pca__n_components=10 -   0.0s\n"
     ]
    },
    {
     "name": "stderr",
     "output_type": "stream",
     "text": [
      "[Parallel(n_jobs=1)]: Done  60 out of  60 | elapsed:    6.0s finished\n"
     ]
    }
   ],
   "source": [
    "parametersLR1 = dict(pca__n_components=[1,5,7,10],clf__C=[0.1,0.3,0.5,0.8,1])\n",
    "GSCV_LR1 = GridSearchCV(pipe_lr1,param_grid=parametersLR1,refit = True, verbose=2)\n",
    "GSCV_FIT_LR1 = GSCV_LR1.fit(X_train, y_train)"
   ]
  },
  {
   "cell_type": "code",
   "execution_count": 84,
   "metadata": {},
   "outputs": [],
   "source": [
    "KQ_GSCV_LR1 = GSCV_FIT_LR1.best_estimator_"
   ]
  },
  {
   "cell_type": "code",
   "execution_count": 85,
   "metadata": {},
   "outputs": [
    {
     "name": "stdout",
     "output_type": "stream",
     "text": [
      "             precision    recall  f1-score   support\n",
      "\n",
      "          0       0.62      0.65      0.63      1415\n",
      "          1       0.65      0.63      0.64      1490\n",
      "\n",
      "avg / total       0.64      0.64      0.64      2905\n",
      "\n"
     ]
    }
   ],
   "source": [
    "Fit_LR1 = KQ_GSCV_LR1.fit(X_train, y_train)\n",
    "y_prLR_1 = Fit_LR1.predict(X_test)\n",
    "Tuning_LR_PCA = classification_report(y_test, y_prLR_1)\n",
    "print(Tuning_LR_PCA)"
   ]
  },
  {
   "cell_type": "markdown",
   "metadata": {},
   "source": [
    "Conduct on original data"
   ]
  },
  {
   "cell_type": "code",
   "execution_count": 86,
   "metadata": {},
   "outputs": [],
   "source": [
    "prLR1_Full = pipe_lr1.fit(X1_train, y1_train)"
   ]
  },
  {
   "cell_type": "code",
   "execution_count": 87,
   "metadata": {},
   "outputs": [
    {
     "name": "stdout",
     "output_type": "stream",
     "text": [
      "             precision    recall  f1-score   support\n",
      "\n",
      "          0       0.92      1.00      0.96      1453\n",
      "          1       0.00      0.00      0.00       132\n",
      "\n",
      "avg / total       0.84      0.92      0.88      1585\n",
      "\n"
     ]
    },
    {
     "name": "stderr",
     "output_type": "stream",
     "text": [
      "C:\\Users\\Huynh Hung\\AppData\\Local\\Continuum\\anaconda3\\lib\\site-packages\\sklearn\\metrics\\classification.py:1135: UndefinedMetricWarning: Precision and F-score are ill-defined and being set to 0.0 in labels with no predicted samples.\n",
      "  'precision', 'predicted', average, warn_for)\n"
     ]
    }
   ],
   "source": [
    "y_prLR1_Full=prLR1.predict(X1_test)\n",
    "NoTuning_LR_PCA_Full = classification_report(y1_test, y_prLR1_Full)\n",
    "print(NoTuning_LR_PCA_Full)"
   ]
  },
  {
   "cell_type": "code",
   "execution_count": 88,
   "metadata": {},
   "outputs": [
    {
     "name": "stdout",
     "output_type": "stream",
     "text": [
      "Fitting 3 folds for each of 20 candidates, totalling 60 fits\n",
      "[CV] clf__C=0.1, pca__n_components=1 .................................\n",
      "[CV] ........................ clf__C=0.1, pca__n_components=1 -   0.2s\n",
      "[CV] clf__C=0.1, pca__n_components=1 .................................\n",
      "[CV] ........................ clf__C=0.1, pca__n_components=1 -   0.0s\n",
      "[CV] clf__C=0.1, pca__n_components=1 .................................\n",
      "[CV] ........................ clf__C=0.1, pca__n_components=1 -   0.0s\n",
      "[CV] clf__C=0.1, pca__n_components=5 .................................\n",
      "[CV] ........................ clf__C=0.1, pca__n_components=5 -   0.0s\n",
      "[CV] clf__C=0.1, pca__n_components=5 .................................\n"
     ]
    },
    {
     "name": "stderr",
     "output_type": "stream",
     "text": [
      "[Parallel(n_jobs=1)]: Done   1 out of   1 | elapsed:    0.2s remaining:    0.0s\n"
     ]
    },
    {
     "name": "stdout",
     "output_type": "stream",
     "text": [
      "[CV] ........................ clf__C=0.1, pca__n_components=5 -   0.0s\n",
      "[CV] clf__C=0.1, pca__n_components=5 .................................\n",
      "[CV] ........................ clf__C=0.1, pca__n_components=5 -   0.0s\n",
      "[CV] clf__C=0.1, pca__n_components=7 .................................\n",
      "[CV] ........................ clf__C=0.1, pca__n_components=7 -   0.1s\n",
      "[CV] clf__C=0.1, pca__n_components=7 .................................\n",
      "[CV] ........................ clf__C=0.1, pca__n_components=7 -   0.0s\n",
      "[CV] clf__C=0.1, pca__n_components=7 .................................\n",
      "[CV] ........................ clf__C=0.1, pca__n_components=7 -   0.0s\n",
      "[CV] clf__C=0.1, pca__n_components=10 ................................\n",
      "[CV] ....................... clf__C=0.1, pca__n_components=10 -   0.0s\n",
      "[CV] clf__C=0.1, pca__n_components=10 ................................\n",
      "[CV] ....................... clf__C=0.1, pca__n_components=10 -   0.0s\n",
      "[CV] clf__C=0.1, pca__n_components=10 ................................\n",
      "[CV] ....................... clf__C=0.1, pca__n_components=10 -   0.0s\n",
      "[CV] clf__C=0.3, pca__n_components=1 .................................\n",
      "[CV] ........................ clf__C=0.3, pca__n_components=1 -   0.0s\n",
      "[CV] clf__C=0.3, pca__n_components=1 .................................\n",
      "[CV] ........................ clf__C=0.3, pca__n_components=1 -   0.0s\n",
      "[CV] clf__C=0.3, pca__n_components=1 .................................\n",
      "[CV] ........................ clf__C=0.3, pca__n_components=1 -   0.0s\n",
      "[CV] clf__C=0.3, pca__n_components=5 .................................\n",
      "[CV] ........................ clf__C=0.3, pca__n_components=5 -   0.0s\n",
      "[CV] clf__C=0.3, pca__n_components=5 .................................\n",
      "[CV] ........................ clf__C=0.3, pca__n_components=5 -   0.0s\n",
      "[CV] clf__C=0.3, pca__n_components=5 .................................\n",
      "[CV] ........................ clf__C=0.3, pca__n_components=5 -   0.0s\n",
      "[CV] clf__C=0.3, pca__n_components=7 .................................\n",
      "[CV] ........................ clf__C=0.3, pca__n_components=7 -   0.0s\n",
      "[CV] clf__C=0.3, pca__n_components=7 .................................\n",
      "[CV] ........................ clf__C=0.3, pca__n_components=7 -   0.0s\n",
      "[CV] clf__C=0.3, pca__n_components=7 .................................\n",
      "[CV] ........................ clf__C=0.3, pca__n_components=7 -   0.0s\n",
      "[CV] clf__C=0.3, pca__n_components=10 ................................\n",
      "[CV] ....................... clf__C=0.3, pca__n_components=10 -   0.0s\n",
      "[CV] clf__C=0.3, pca__n_components=10 ................................\n",
      "[CV] ....................... clf__C=0.3, pca__n_components=10 -   0.0s\n",
      "[CV] clf__C=0.3, pca__n_components=10 ................................\n",
      "[CV] ....................... clf__C=0.3, pca__n_components=10 -   0.0s\n",
      "[CV] clf__C=0.5, pca__n_components=1 .................................\n",
      "[CV] ........................ clf__C=0.5, pca__n_components=1 -   0.0s\n",
      "[CV] clf__C=0.5, pca__n_components=1 .................................\n",
      "[CV] ........................ clf__C=0.5, pca__n_components=1 -   0.0s\n",
      "[CV] clf__C=0.5, pca__n_components=1 .................................\n",
      "[CV] ........................ clf__C=0.5, pca__n_components=1 -   0.0s\n",
      "[CV] clf__C=0.5, pca__n_components=5 .................................\n",
      "[CV] ........................ clf__C=0.5, pca__n_components=5 -   0.0s\n",
      "[CV] clf__C=0.5, pca__n_components=5 .................................\n",
      "[CV] ........................ clf__C=0.5, pca__n_components=5 -   0.0s\n",
      "[CV] clf__C=0.5, pca__n_components=5 .................................\n",
      "[CV] ........................ clf__C=0.5, pca__n_components=5 -   0.0s\n",
      "[CV] clf__C=0.5, pca__n_components=7 .................................\n",
      "[CV] ........................ clf__C=0.5, pca__n_components=7 -   0.0s\n",
      "[CV] clf__C=0.5, pca__n_components=7 .................................\n",
      "[CV] ........................ clf__C=0.5, pca__n_components=7 -   0.0s\n",
      "[CV] clf__C=0.5, pca__n_components=7 .................................\n",
      "[CV] ........................ clf__C=0.5, pca__n_components=7 -   0.0s\n",
      "[CV] clf__C=0.5, pca__n_components=10 ................................\n",
      "[CV] ....................... clf__C=0.5, pca__n_components=10 -   0.0s\n",
      "[CV] clf__C=0.5, pca__n_components=10 ................................\n",
      "[CV] ....................... clf__C=0.5, pca__n_components=10 -   0.0s\n",
      "[CV] clf__C=0.5, pca__n_components=10 ................................\n",
      "[CV] ....................... clf__C=0.5, pca__n_components=10 -   0.0s\n",
      "[CV] clf__C=0.8, pca__n_components=1 .................................\n",
      "[CV] ........................ clf__C=0.8, pca__n_components=1 -   0.0s\n",
      "[CV] clf__C=0.8, pca__n_components=1 .................................\n",
      "[CV] ........................ clf__C=0.8, pca__n_components=1 -   0.0s\n",
      "[CV] clf__C=0.8, pca__n_components=1 .................................\n",
      "[CV] ........................ clf__C=0.8, pca__n_components=1 -   0.0s\n",
      "[CV] clf__C=0.8, pca__n_components=5 .................................\n",
      "[CV] ........................ clf__C=0.8, pca__n_components=5 -   0.0s\n",
      "[CV] clf__C=0.8, pca__n_components=5 .................................\n",
      "[CV] ........................ clf__C=0.8, pca__n_components=5 -   0.0s\n",
      "[CV] clf__C=0.8, pca__n_components=5 .................................\n",
      "[CV] ........................ clf__C=0.8, pca__n_components=5 -   0.0s\n",
      "[CV] clf__C=0.8, pca__n_components=7 .................................\n",
      "[CV] ........................ clf__C=0.8, pca__n_components=7 -   0.0s\n",
      "[CV] clf__C=0.8, pca__n_components=7 .................................\n",
      "[CV] ........................ clf__C=0.8, pca__n_components=7 -   0.0s\n",
      "[CV] clf__C=0.8, pca__n_components=7 .................................\n",
      "[CV] ........................ clf__C=0.8, pca__n_components=7 -   0.0s\n",
      "[CV] clf__C=0.8, pca__n_components=10 ................................\n",
      "[CV] ....................... clf__C=0.8, pca__n_components=10 -   0.0s\n",
      "[CV] clf__C=0.8, pca__n_components=10 ................................\n",
      "[CV] ....................... clf__C=0.8, pca__n_components=10 -   0.0s\n",
      "[CV] clf__C=0.8, pca__n_components=10 ................................\n",
      "[CV] ....................... clf__C=0.8, pca__n_components=10 -   0.0s\n",
      "[CV] clf__C=1, pca__n_components=1 ...................................\n",
      "[CV] .......................... clf__C=1, pca__n_components=1 -   0.0s\n",
      "[CV] clf__C=1, pca__n_components=1 ...................................\n",
      "[CV] .......................... clf__C=1, pca__n_components=1 -   0.0s\n",
      "[CV] clf__C=1, pca__n_components=1 ...................................\n",
      "[CV] .......................... clf__C=1, pca__n_components=1 -   0.0s\n",
      "[CV] clf__C=1, pca__n_components=5 ...................................\n",
      "[CV] .......................... clf__C=1, pca__n_components=5 -   0.0s\n",
      "[CV] clf__C=1, pca__n_components=5 ...................................\n",
      "[CV] .......................... clf__C=1, pca__n_components=5 -   0.0s\n",
      "[CV] clf__C=1, pca__n_components=5 ...................................\n",
      "[CV] .......................... clf__C=1, pca__n_components=5 -   0.0s\n",
      "[CV] clf__C=1, pca__n_components=7 ...................................\n",
      "[CV] .......................... clf__C=1, pca__n_components=7 -   0.0s\n",
      "[CV] clf__C=1, pca__n_components=7 ...................................\n",
      "[CV] .......................... clf__C=1, pca__n_components=7 -   0.0s\n",
      "[CV] clf__C=1, pca__n_components=7 ...................................\n",
      "[CV] .......................... clf__C=1, pca__n_components=7 -   0.0s\n",
      "[CV] clf__C=1, pca__n_components=10 ..................................\n",
      "[CV] ......................... clf__C=1, pca__n_components=10 -   0.0s\n",
      "[CV] clf__C=1, pca__n_components=10 ..................................\n",
      "[CV] ......................... clf__C=1, pca__n_components=10 -   0.0s\n",
      "[CV] clf__C=1, pca__n_components=10 ..................................\n",
      "[CV] ......................... clf__C=1, pca__n_components=10 -   0.0s\n"
     ]
    },
    {
     "name": "stderr",
     "output_type": "stream",
     "text": [
      "[Parallel(n_jobs=1)]: Done  60 out of  60 | elapsed:    4.2s finished\n"
     ]
    }
   ],
   "source": [
    "parametersLR1 = dict(pca__n_components=[1,5,7,10],clf__C=[0.1,0.3,0.5,0.8,1])\n",
    "GSCV_LR1_Full = GridSearchCV(pipe_lr1,param_grid=parametersLR1,refit = True, verbose=2)\n",
    "GSCV_FIT_LR1_Full = GSCV_LR1_Full.fit(X1_train, y1_train)"
   ]
  },
  {
   "cell_type": "code",
   "execution_count": 89,
   "metadata": {},
   "outputs": [],
   "source": [
    "KQ_GSCV_LR1_Full = GSCV_FIT_LR1_Full.best_estimator_"
   ]
  },
  {
   "cell_type": "code",
   "execution_count": 90,
   "metadata": {},
   "outputs": [
    {
     "name": "stdout",
     "output_type": "stream",
     "text": [
      "             precision    recall  f1-score   support\n",
      "\n",
      "          0       0.92      1.00      0.96      1453\n",
      "          1       0.00      0.00      0.00       132\n",
      "\n",
      "avg / total       0.84      0.92      0.88      1585\n",
      "\n"
     ]
    },
    {
     "name": "stderr",
     "output_type": "stream",
     "text": [
      "C:\\Users\\Huynh Hung\\AppData\\Local\\Continuum\\anaconda3\\lib\\site-packages\\sklearn\\metrics\\classification.py:1135: UndefinedMetricWarning: Precision and F-score are ill-defined and being set to 0.0 in labels with no predicted samples.\n",
      "  'precision', 'predicted', average, warn_for)\n"
     ]
    }
   ],
   "source": [
    "Fit_LR1_Full = KQ_GSCV_LR1_Full.fit(X1_train, y1_train)\n",
    "y_prLR_1_Full = Fit_LR1_Full.predict(X1_test)\n",
    "Tuning_LR_PCA_Full = classification_report(y1_test, y_prLR_1_Full)\n",
    "print(Tuning_LR_PCA_Full)"
   ]
  },
  {
   "cell_type": "markdown",
   "metadata": {},
   "source": [
    "## III. Conclusion"
   ]
  },
  {
   "cell_type": "markdown",
   "metadata": {},
   "source": [
    "As can be seen from the above analysis, original data with imbalanced probability TARGET values return bad prediction result. F1-score of '0' achieves really high when '1' is 0.\n",
    "After apply over sampling, precision of prediction model has improve by a lot, achieve a number of almost 0.7 for each value before apply PCA. This is still not a really good score, but not really bad also. Improvement can be made by adjust input variable. Maybe in this model, data about one's living place is an important factor for prediction, but was dropped out due to a great number of NaN values. Additional data collection can be made to help increase dataset's covariance.\n",
    "In another hand, we can try to predict DAYS_BIRTH, DAYS_EMPLOYED and DAYS_REGISTER instead of just drop them out as it was done in this model.\n",
    "Some other binary classification can be used to have a wider observation like Random Forrest, Support Vector Machine, ... along with other dimensional reduction method elsewhere than PCA like SelectKBest, Ridge and Lasso,...  "
   ]
  },
  {
   "cell_type": "code",
   "execution_count": null,
   "metadata": {},
   "outputs": [],
   "source": []
  },
  {
   "cell_type": "code",
   "execution_count": null,
   "metadata": {},
   "outputs": [],
   "source": []
  }
 ],
 "metadata": {
  "kernelspec": {
   "display_name": "Python 3",
   "language": "python",
   "name": "python3"
  },
  "language_info": {
   "codemirror_mode": {
    "name": "ipython",
    "version": 3
   },
   "file_extension": ".py",
   "mimetype": "text/x-python",
   "name": "python",
   "nbconvert_exporter": "python",
   "pygments_lexer": "ipython3",
   "version": "3.7.0"
  }
 },
 "nbformat": 4,
 "nbformat_minor": 2
}
